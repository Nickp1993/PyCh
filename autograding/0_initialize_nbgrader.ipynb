{
 "cells": [
  {
   "cell_type": "markdown",
   "id": "breeding-private",
   "metadata": {},
   "source": [
    "# Initialize NB grader"
   ]
  },
  {
   "cell_type": "markdown",
   "id": "bibliographic-database",
   "metadata": {},
   "source": [
    "Taken from https://medium.com/analytics-vidhya/5-steps-to-auto-grade-your-jupyter-notebooks-nbgrader-simplified-4cbebf8943ef"
   ]
  },
  {
   "cell_type": "markdown",
   "id": "soviet-campus",
   "metadata": {},
   "source": [
    "**Step 1:Install nbgrader (in a virtual environment preferably)**\n",
    "\n",
    "Deze stap wordt automatisch uitgevoerd in /binder/environments.yml"
   ]
  },
  {
   "cell_type": "code",
   "execution_count": null,
   "id": "funny-night",
   "metadata": {},
   "outputs": [],
   "source": []
  },
  {
   "cell_type": "markdown",
   "id": "hungarian-stock",
   "metadata": {},
   "source": [
    "**Step 2: Create your course**\n",
    "\n",
    "Deze stap wordt nu automatisch uitgevoerd in /binder/postBuild"
   ]
  },
  {
   "cell_type": "code",
   "execution_count": null,
   "id": "banner-agreement",
   "metadata": {},
   "outputs": [],
   "source": []
  },
  {
   "cell_type": "markdown",
   "id": "limited-kelly",
   "metadata": {},
   "source": [
    "**Step 3: Automatically add students ids in database.**\n",
    "\n",
    "Populate the database with student_ids (optionally names as well). It’s assumed that all your students’ ids are in a .txt file. \n",
    "Make sure your .txt file contains unique students ids."
   ]
  },
  {
   "cell_type": "code",
   "execution_count": 1,
   "id": "thousand-customer",
   "metadata": {
    "scrolled": false
   },
   "outputs": [],
   "source": [
    "path_of_file_holding_student_ids =  './autograding/student_ids.txt'"
   ]
  },
  {
   "cell_type": "code",
   "execution_count": 2,
   "id": "female-subdivision",
   "metadata": {},
   "outputs": [
    {
     "ename": "FileNotFoundError",
     "evalue": "[Errno 2] No such file or directory: './autograding/student_ids.txt'",
     "output_type": "error",
     "traceback": [
      "\u001b[0;31m---------------------------------------------------------------------------\u001b[0m",
      "\u001b[0;31mFileNotFoundError\u001b[0m                         Traceback (most recent call last)",
      "\u001b[0;32m<ipython-input-2-5ff50c5e3f11>\u001b[0m in \u001b[0;36m<module>\u001b[0;34m\u001b[0m\n\u001b[1;32m      4\u001b[0m \u001b[0;32mwith\u001b[0m \u001b[0mGradebook\u001b[0m\u001b[0;34m(\u001b[0m\u001b[0;34m'sqlite:///gradebook.db'\u001b[0m\u001b[0;34m)\u001b[0m \u001b[0;32mas\u001b[0m \u001b[0mgb\u001b[0m\u001b[0;34m:\u001b[0m\u001b[0;34m\u001b[0m\u001b[0;34m\u001b[0m\u001b[0m\n\u001b[1;32m      5\u001b[0m     \u001b[0;31m# read the txt file\u001b[0m\u001b[0;34m\u001b[0m\u001b[0;34m\u001b[0m\u001b[0;34m\u001b[0m\u001b[0m\n\u001b[0;32m----> 6\u001b[0;31m     \u001b[0;32mwith\u001b[0m \u001b[0mopen\u001b[0m\u001b[0;34m(\u001b[0m\u001b[0mpath_of_file_holding_student_ids\u001b[0m\u001b[0;34m)\u001b[0m \u001b[0;32mas\u001b[0m \u001b[0mf\u001b[0m\u001b[0;34m:\u001b[0m\u001b[0;34m\u001b[0m\u001b[0;34m\u001b[0m\u001b[0m\n\u001b[0m\u001b[1;32m      7\u001b[0m         \u001b[0;31m# extract ids in a list.\u001b[0m\u001b[0;34m\u001b[0m\u001b[0;34m\u001b[0m\u001b[0;34m\u001b[0m\u001b[0m\n\u001b[1;32m      8\u001b[0m         \u001b[0mstudent_ids\u001b[0m \u001b[0;34m=\u001b[0m \u001b[0;34m[\u001b[0m\u001b[0mword\u001b[0m\u001b[0;34m.\u001b[0m\u001b[0mstrip\u001b[0m\u001b[0;34m(\u001b[0m\u001b[0;34m)\u001b[0m \u001b[0;32mfor\u001b[0m \u001b[0mline\u001b[0m \u001b[0;32min\u001b[0m \u001b[0mf\u001b[0m\u001b[0;34m.\u001b[0m\u001b[0mreadlines\u001b[0m\u001b[0;34m(\u001b[0m\u001b[0;34m)\u001b[0m \u001b[0;32mfor\u001b[0m          \u001b[0mword\u001b[0m \u001b[0;32min\u001b[0m \u001b[0mline\u001b[0m\u001b[0;34m.\u001b[0m\u001b[0msplit\u001b[0m\u001b[0;34m(\u001b[0m\u001b[0;34m','\u001b[0m\u001b[0;34m)\u001b[0m \u001b[0;32mif\u001b[0m \u001b[0mword\u001b[0m\u001b[0;34m.\u001b[0m\u001b[0mstrip\u001b[0m\u001b[0;34m(\u001b[0m\u001b[0;34m)\u001b[0m\u001b[0;34m]\u001b[0m\u001b[0;34m\u001b[0m\u001b[0;34m\u001b[0m\u001b[0m\n",
      "\u001b[0;31mFileNotFoundError\u001b[0m: [Errno 2] No such file or directory: './autograding/student_ids.txt'"
     ]
    }
   ],
   "source": [
    "import pandas as pd\n",
    "from nbgrader.api import Gradebook\n",
    "# Create the connection to the database\n",
    "with Gradebook('sqlite:///gradebook.db') as gb:\n",
    "    # read the txt file\n",
    "    with open(path_of_file_holding_student_ids) as f:\n",
    "        # extract ids in a list.\n",
    "        student_ids = [word.strip() for line in f.readlines() for          word in line.split(',') if word.strip()]\n",
    "        # populate database with ids\n",
    "        for _id in student_ids:\n",
    "            gb.add_student(_id)"
   ]
  },
  {
   "cell_type": "markdown",
   "id": "handed-frame",
   "metadata": {},
   "source": [
    "**Step 4: Create an assignment and Step 5: autograde assignemnt**\n",
    "\n",
    "See: https://medium.com/analytics-vidhya/5-steps-to-auto-grade-your-jupyter-notebooks-nbgrader-simplified-4cbebf8943ef"
   ]
  },
  {
   "cell_type": "code",
   "execution_count": null,
   "id": "demonstrated-graphics",
   "metadata": {},
   "outputs": [],
   "source": []
  }
 ],
 "metadata": {
  "kernelspec": {
   "display_name": "Python 3",
   "language": "python",
   "name": "python3"
  },
  "language_info": {
   "codemirror_mode": {
    "name": "ipython",
    "version": 3
   },
   "file_extension": ".py",
   "mimetype": "text/x-python",
   "name": "python",
   "nbconvert_exporter": "python",
   "pygments_lexer": "ipython3",
   "version": "3.7.10"
  }
 },
 "nbformat": 4,
 "nbformat_minor": 5
}
