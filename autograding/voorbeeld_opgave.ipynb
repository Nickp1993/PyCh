{
 "cells": [
  {
   "cell_type": "markdown",
   "id": "magnetic-liquid",
   "metadata": {
    "nbgrader": {
     "grade": false,
     "grade_id": "cell-4125d41c1bbfba83",
     "locked": true,
     "schema_version": 3,
     "solution": false,
     "task": false
    }
   },
   "source": [
    "Zie https://www.youtube.com/watch?v=5WUm0QuJdFw voor uitleg van nbgrader\n",
    "Documentatie: https://nbgrader.readthedocs.io/en/stable/"
   ]
  },
  {
   "cell_type": "markdown",
   "id": "sharing-blackjack",
   "metadata": {
    "nbgrader": {
     "grade": true,
     "grade_id": "cell-f473930b197f8579",
     "locked": false,
     "points": 0,
     "schema_version": 3,
     "solution": true,
     "task": false
    }
   },
   "source": [
    "Hier staat wat studenten kunnen zien\n",
    "\n",
    "### BEGIN SOLUTION\n",
    "Hier staat dan de oplossing, deze is niet zichtbaar voor studenten\n",
    "### END SOLUTION"
   ]
  }
 ],
 "metadata": {
  "celltoolbar": "Create Assignment",
  "kernelspec": {
   "display_name": "Python 3",
   "language": "python",
   "name": "python3"
  },
  "language_info": {
   "codemirror_mode": {
    "name": "ipython",
    "version": 3
   },
   "file_extension": ".py",
   "mimetype": "text/x-python",
   "name": "python",
   "nbconvert_exporter": "python",
   "pygments_lexer": "ipython3",
   "version": "3.7.10"
  }
 },
 "nbformat": 4,
 "nbformat_minor": 5
}
