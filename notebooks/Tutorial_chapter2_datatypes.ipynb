{
 "cells": [
  {
   "cell_type": "markdown",
   "id": "8b46e7fa",
   "metadata": {},
   "source": [
    "<span style=\"color:green\">**TODO: add list operations such as remove and append**</span>"
   ]
  },
  {
   "cell_type": "markdown",
   "id": "240f3b28",
   "metadata": {},
   "source": [
    "<span style=\"color:red\">**Run the cell below to import the required modules for this chapter!**</span>"
   ]
  },
  {
   "cell_type": "code",
   "execution_count": 40,
   "id": "cac689e9",
   "metadata": {},
   "outputs": [],
   "source": [
    "from PyCh import *\n",
    "import math"
   ]
  },
  {
   "cell_type": "markdown",
   "id": "ac88320a",
   "metadata": {},
   "source": [
    "# 2 Data types"
   ]
  },
  {
   "cell_type": "markdown",
   "id": "c9ca3e27",
   "metadata": {},
   "source": [
    "The Python language is a dynamically typed language, which means that you do not have to specify types every time. Still, all variables must be declared in the program. For the declaration of a variable, the data type does not need to be specified, altough this is still possible. Unless specified otherwise, variables with whole number values are integers, while variables  that have a decimal point in the value are floating variables.\n",
    "\n",
    "The following fragment shows the declaration of two elementary data types, integer variable `i` and floating variables `r` and `x`:"
   ]
  },
  {
   "cell_type": "code",
   "execution_count": 41,
   "id": "3376ad14",
   "metadata": {},
   "outputs": [
    {
     "name": "stdout",
     "output_type": "stream",
     "text": [
      "The data type of i is <class 'int'> and its value is 20\n",
      "The data type of r is <class 'float'> and its value is 20.0\n",
      "The data type of x is <class 'float'> and its value is 20.0\n"
     ]
    }
   ],
   "source": [
    "i = 20\n",
    "r = 20.0\n",
    "x = float(20)\n",
    "\n",
    "print(\"The data type of i is\", type(i), \"and its value is\", i)\n",
    "print(\"The data type of r is\", type(r), \"and its value is\", r)\n",
    "print(\"The data type of x is\", type(x), \"and its value is\", x)"
   ]
  },
  {
   "cell_type": "markdown",
   "id": "25d24152",
   "metadata": {},
   "source": [
    "The syntax for the declaration of variables is similar to the MATLAB language. An expression, consisting of operators, e.g. plus (`+`), times (`*`), and operands, e.g. `i` and `r`, is used to calculate a new value. The new value can be assigned to a variable by using an assignment statement. An example with four variables, two expressions and assignment statements is:"
   ]
  },
  {
   "cell_type": "code",
   "execution_count": 42,
   "id": "0ad3983e",
   "metadata": {},
   "outputs": [
    {
     "data": {
      "text/plain": [
       "(2, 1.5, 5, 0.75)"
      ]
     },
     "execution_count": 42,
     "metadata": {},
     "output_type": "execute_result"
    }
   ],
   "source": [
    "i = 2\n",
    "r = 1.50\n",
    "j = 2*i+1\n",
    "s = r/2\n",
    "\n",
    "i, r, j, s"
   ]
  },
  {
   "cell_type": "markdown",
   "id": "b6624ab0",
   "metadata": {},
   "source": [
    "The value of variable `j` becomes 5, and the value of `s` becomes 0.75. Assign statements are further described in Chapter 3."
   ]
  },
  {
   "cell_type": "markdown",
   "id": "c772a586",
   "metadata": {},
   "source": [
    "Data types are for now categorized in two different groups: *elementary* types and *container* types. Elementary types are types such as Boolean, integer, float or string. Variables with a container type (a list, set, or dictionary) contain many elements, where each element is of the same type."
   ]
  },
  {
   "cell_type": "markdown",
   "id": "de93518b",
   "metadata": {},
   "source": [
    "## 2.1 Elementary types"
   ]
  },
  {
   "cell_type": "markdown",
   "id": "cbfa7216",
   "metadata": {},
   "source": [
    "The elementary data types are Booleans, numbers and strings. The language provides the following elementary data types:\n",
    "- `bool`\n",
    "- `int`\n",
    "- `float`\n",
    "- `string`"
   ]
  },
  {
   "cell_type": "markdown",
   "id": "aa5556ce",
   "metadata": {},
   "source": [
    "### 2.1.1 Booleans"
   ]
  },
  {
   "cell_type": "markdown",
   "id": "555cbb78",
   "metadata": {},
   "source": [
    "A boolean value has two possible values, the truth values. These truth values are `False` and `True`. The value `False` means that a property is not fulfilled. A value `True` means the presence of a property.\n",
    "In mathematics, various symbols are used for unary and binary boolean\n",
    "operators. These operators are also present in Python. The most commonly\n",
    "used boolean operators are `not`, `and`, and `or`. The names of the operators,\n",
    "the symbols in mathematics and the symbols in the language are presented\n",
    "in the table below."
   ]
  },
  {
   "cell_type": "markdown",
   "id": "3ac88621",
   "metadata": {},
   "source": [
    "| Operator    | Math  | Python |\n",
    "|-------------|-------|--------|\n",
    "| boolean not | &not; | `not`  |\n",
    "| boolean and | &and; | `and`  |\n",
    "| boolean or  | &or;  | `or`   |"
   ]
  },
  {
   "cell_type": "markdown",
   "id": "525c43b1",
   "metadata": {},
   "source": [
    "Examples of boolean expressions are the following. If `z` equals `True`, then the value of (`not z`) equals `False`. If `s` equals `False`, and `t` equals `True`, then the value of the expression (`s or t`) becomes `True`. The result of the unary `not`, the binary `and` and `or` operators, for two variables `p` and `q` is given in the table below:"
   ]
  },
  {
   "cell_type": "markdown",
   "id": "c4a3d8c8",
   "metadata": {},
   "source": [
    "| `p`     | `q`     | `not p` |`p and q`|`p or q `|\n",
    "|---------|---------|---------|---------|---------|\n",
    "| `False` | `False` | `True`  | `False` | `False` |\n",
    "| `False` | `True`  |         | `False` | `True`  |\n",
    "| `True`  | `False` | `False` | `False` | `True`  |\n",
    "| `True`  | `True`  |         | `True`  | `True`  |"
   ]
  },
  {
   "cell_type": "markdown",
   "id": "34822f5a",
   "metadata": {},
   "source": [
    "If `p = true` and `q = false`, we find for `p or q`the value `True`."
   ]
  },
  {
   "cell_type": "markdown",
   "id": "3a7426dc",
   "metadata": {},
   "source": [
    "### 2.1.2 Numbers"
   ]
  },
  {
   "cell_type": "markdown",
   "id": "10f67175",
   "metadata": {},
   "source": [
    "In the language, three types of numbers are available: integer numbers floating numbers and complex numbers, of which only the integer number and floating numbers will be used. Integer numbers are whole numbers, denoted by type int\n",
    "e.g. 3, -10, 0. Float numbers are used to present numbers with a fraction,\n",
    "denoted by type float. E.g. 3.14, 2.7e6 (the scientific notation for 2.7 million). Note that floating numbers must either have a fraction or use the\n",
    "scientific notation, to let the computer know you mean a floating number (in-\n",
    "stead of an integer number).\n",
    "For numbers, the normal arithmetic operators are defined. Expressions can be constructed with these operators. The arithmetic operators are in the table below"
   ]
  },
  {
   "cell_type": "markdown",
   "id": "d02a675b",
   "metadata": {},
   "source": [
    "| Operator name        |Notation|\n",
    "|----------------------|--------|\n",
    "| raising to the power |`x ** y`|\n",
    "| modulo               |`x % y` |\n",
    "| multiplication       |`x * y` |\n",
    "| division             |`x / y` |\n",
    "| unary plus           |`+ x`   |\n",
    "| unary minus          | `- x`  |\n",
    "| addition             |`x + y` |\n",
    "| subtraction          |`x - y` |"
   ]
  },
  {
   "cell_type": "markdown",
   "id": "ae917e66",
   "metadata": {},
   "source": [
    "The priority of the operators is given from high to low. The raising to the power operator has the strongest binding, and the `+` and `-` the weakest binding.\n",
    "E.g., `-3^2` is read as `-(3^2)` and not `(-3)^2`, because the priority rules say that the raising to the power operator binds stronger than the unary operator. Binding in expressions can be changed by the use of parentheses.\n",
    "The integer remainder, denoted by `%`, gives the remainder after division `x / y`. So, `7 % 3` gives `1` and `-7 % 3` gives `2`, `7 % 3`.\n",
    "The rule for the result of an operation is as follows. If one of the operands is of type `float`, the result of the operation is of type `float`.\n",
    "Conversion functions exist to convert a `float` into an integer. The function `ceil` converts a float to the smallest integer value not less than the float, the function `floor` gives the biggest integer value smaller than or equal to the float, and the function `round` rounds the float to the nearest integer value (or up, if it ends on `0.5`). Note that for the functions `ceil` and `floor`, the \"math\" library has to be imported by entering `import math`, e.g. at the beginning of the notebook. Between two numbers, a relational operation can be defined. If e.g. variable `x` is smaller than variable `y`, the expression `x < y` equals true. The relational operators, with well known semantics, are listed below:"
   ]
  },
  {
   "cell_type": "markdown",
   "id": "992c8376",
   "metadata": {},
   "source": [
    "| Name         | Operator |\n",
    "|--------------|----------|\n",
    "| less than    | `x < y`  |\n",
    "| at most      | `x <= y` |\n",
    "| equals       | `x == y` |\n",
    "| differs from | `x != y` |\n",
    "| at least     | `x >= y` |\n",
    "| greater than | `x > y`  |"
   ]
  },
  {
   "cell_type": "markdown",
   "id": "9a117ad6",
   "metadata": {},
   "source": [
    "### 2.1.3 Strings"
   ]
  },
  {
   "cell_type": "markdown",
   "id": "2e5a3d80",
   "metadata": {},
   "source": [
    "Variables of type string contains a sequence of characters. A string is\n",
    "enclosed by single or double quotes. An example is `\"Manufacturing networks\"`.\n",
    "Strings can be composed from different strings. The concatenation operator\n",
    "(`+`) adds one string to another, e.g. `\"Systems\" + \" \" + \"engineering\"`\n",
    "gives `\"Systems engineering\"`. Moreover the relational operators (`<`, `<=`, `==`, `!=`, `>=`, and `>`) can be used to compare strings alphabetically, e.g. `\"a\"` < `\"aa\"` < `\"ab\"` < `\"b\"`."
   ]
  },
  {
   "cell_type": "markdown",
   "id": "8e1ae12e",
   "metadata": {},
   "source": [
    "## 2.2 Container types"
   ]
  },
  {
   "cell_type": "markdown",
   "id": "01c1ad00",
   "metadata": {},
   "source": [
    "*Lists*, *sets* and *dictionaries* are container types. A variable of this type\n",
    "contains zero or more identical elements. Elements can be added or removed\n",
    "in variables of these types.\n",
    "\n",
    "*Sets* are unordered collections of elements. Each element value either\n",
    "exists in a set, or it does not exist in a set. Each element value is unique,\n",
    "duplicate elements are silently discarded. A *list* is an ordered collection of\n",
    "elements, i.e. there is a first and a last element (in a non-empty list). A\n",
    "list also allows duplicate element values. *Dictionaries* are unordered and\n",
    "have no duplicate value, just like sets, but you can associate a value (of a\n",
    "different type) with each element value.\n",
    "\n",
    "*Lists* are denoted by a pair of (square) brackets. For example, `[7, 8, 3]` is a list with three integer elements. Since a list is ordered, `[8, 7, 3]` is a different list. \n",
    "\n",
    "*Sets* are denoted by a pair of (curly) braces, e.g. `{7, 8, 3}` is a set\n",
    "with three integer elements. A set is an unordered collection of elements. The set `{7, 8, 3}` is a set with three integer numbers. Since order of the elements does not matter, the same set can also be written as `{8, 3, 7}` (or in one of the four other orders). In addition, each element in a set is unique, e.g. `{8, 7, 8, 3}` is equal to `{7, 8, 3}`. For readability, elements in a set are normally written in increasing order, i.e. as `{3, 7, 8}`.\n",
    "\n",
    "*Dictionaries* are denoted by a pair of (curly) braces, whereby an element\n",
    "value consists of two parts, a \"key\" and a \"value\" part. The two parts\n",
    "separated by a colon (`:`). For example `{\"jim\" : 32, \"john\" : 34}` is a\n",
    "dictionary with two elements. The first element has `\"jim\"` as key part and\n",
    "`32` as value part, the second element has `\"john\"` as key part and `34` as value\n",
    "part. The key parts of the elements work like a set, they are unordered and\n",
    "duplicates are silently discarded. A value part is associated with its key\n",
    "part. In this example, the key part is the name of a person, while the value\n",
    "part keeps the age of that person.\n",
    "\n",
    "Container types have some built-in functions (Functions are described\n",
    "in Chapter 4) in common:\n",
    "\n",
    "- The function `len` gives the number of elements in a variable. E.g. `len([7, 8, 3])` yields `3`; `len({7, 8})` results in `2`; `len({\"jim\":32})` gives `1` (an element consists of two parts).\n",
    "- To check whether there are no elements in a variable, in other words, to chekc whether a variable is empty, the boolean operator `not` can be used. E.g., `not []` returns `True`, and `not [123]` yields `False`\n",
    "- The function `[variable].pop()` extracts a value from the provided collection and returns that extracted value, and the collection is updated without that value. For lists, the index of the value that should be extracted can be defined. Note that unlike MATLAB, the first index of a list is indicated by 0! For sets, only the first item can be extracted. For dictionaries, an item can only be discarded when the \"key\"-part is used in the pop-function. What will be returned is the \"value\"-part of that item in the dictionary. An example is shown below:"
   ]
  },
  {
   "cell_type": "code",
   "execution_count": 56,
   "id": "b2d28eff",
   "metadata": {},
   "outputs": [
    {
     "name": "stdout",
     "output_type": "stream",
     "text": [
      "The new x =  [7, 1, 0]\n",
      "The extracted value from x is 3\n",
      "The new y =  {1, 3, 7}\n",
      "The extracted value from y is 0\n",
      "The new z =  {'jim': 32}\n",
      "The extracted value from z is 34\n"
     ]
    }
   ],
   "source": [
    "x = [7, 1, 0, 3]\n",
    "q = x.pop(3)\n",
    "print('The new x = ',x)\n",
    "print('The extracted value from x is', q)\n",
    "\n",
    "y = {7, 1, 0, 3}\n",
    "r = y.pop()\n",
    "print('The new y = ',y)\n",
    "print('The extracted value from y is', r)\n",
    "\n",
    "z = {\"jim\":32,\"john\":34}\n",
    "s = z.pop(\"john\")\n",
    "print('The new z = ',z)\n",
    "print('The extracted value from z is', s)"
   ]
  },
  {
   "cell_type": "markdown",
   "id": "2e4b6776",
   "metadata": {},
   "source": [
    "### 2.2.1 Lists"
   ]
  },
  {
   "cell_type": "markdown",
   "id": "62fb9896",
   "metadata": {},
   "source": [
    "A list is an ordered collection of elements of the same type. They are useful to model anything where duplicate values may occur or where order of the values is significant. E.g. waiting customers in a shop, process steps in a recipe, or products stored in a warehouse. Various operations are defined for lists.\n",
    "\n",
    "An element can be fetched by *indexing*. This indexing operation does not change the content of the variable. The first element of a list has index `0`. The last element of a list has index `len(xs) - 1`. A negative index, say `m`, starts from the back of the list, or equivalently, at offset `len(xs) + m` from the front. You cannot index non-existing elements. Some examples, with `xs = [7, 8, 3, 5, 9]` are:"
   ]
  },
  {
   "cell_type": "code",
   "execution_count": 33,
   "id": "b0a9eba3",
   "metadata": {},
   "outputs": [
    {
     "name": "stdout",
     "output_type": "stream",
     "text": [
      "7\n",
      "5\n"
     ]
    }
   ],
   "source": [
    "xs = [7, 8, 3, 5, 9]\n",
    "print(xs[0]) # -> 7\n",
    "print(xs[3]) # -> 5"
   ]
  },
  {
   "cell_type": "code",
   "execution_count": 32,
   "id": "b59e9d49",
   "metadata": {},
   "outputs": [
    {
     "ename": "IndexError",
     "evalue": "list index out of range",
     "output_type": "error",
     "traceback": [
      "\u001B[1;31m---------------------------------------------------------------------------\u001B[0m",
      "\u001B[1;31mIndexError\u001B[0m                                Traceback (most recent call last)",
      "\u001B[1;32m~\\AppData\\Local\\Temp/ipykernel_11304/2765631974.py\u001B[0m in \u001B[0;36m<module>\u001B[1;34m\u001B[0m\n\u001B[1;32m----> 1\u001B[1;33m \u001B[0mprint\u001B[0m\u001B[1;33m(\u001B[0m\u001B[0mxs\u001B[0m\u001B[1;33m[\u001B[0m\u001B[1;36m5\u001B[0m\u001B[1;33m]\u001B[0m\u001B[1;33m)\u001B[0m \u001B[1;31m# -> ERROR (there is no element at position 5)\u001B[0m\u001B[1;33m\u001B[0m\u001B[1;33m\u001B[0m\u001B[0m\n\u001B[0m",
      "\u001B[1;31mIndexError\u001B[0m: list index out of range"
     ]
    }
   ],
   "source": [
    "print(xs[5]) # -> ERROR (there is no element at position 5)"
   ]
  },
  {
   "cell_type": "code",
   "execution_count": 34,
   "id": "16a91eed",
   "metadata": {},
   "outputs": [
    {
     "name": "stdout",
     "output_type": "stream",
     "text": [
      "9\n",
      "5\n"
     ]
    }
   ],
   "source": [
    "print(xs[-1]) # -> xs[5 - 1] -> xs[4] -> 9\n",
    "print(xs[-2]) # -> xs[5 - 2] -> xs[3] -> 5"
   ]
  },
  {
   "cell_type": "markdown",
   "id": "94fcd0ef",
   "metadata": {},
   "source": [
    "In Figure 2.1, the list with indices is visualized.\n",
    "\n",
    "| Figure 2.1: A list with indices |\n",
    "- \n",
    "<img src=\"figures/indices.png\" width=40%>\n",
    "<a id='fig:8-1'></a>\n",
    "\n",
    "A part of a list can be fetched by *slicing*. The slicing operation does not change the content of the list, it copies a contiguous sequence of a list. The result of a slice operation is again a list, even if the slice contains just one element.\n",
    "Slicing is denoted by `xs[i:j]`. The slice of `xs[i:j]` is defined as the\n",
    "sequence of elements with index `k` such that `i <= k < j`. Note the upper\n",
    "bound `j` is noninclusive. If `i` is omitted use `0`. If `j` is omitted use `len(xs)`.\n",
    "If `i` is greater than or equal to `j`, the slice is empty. If `i` or `j` is negative, the index is relative to the end of the list: `len(xs) + i` or `len(xs) + j` is substituted. Some examples with `xs = [7, 8, 3, 5, 9]`:"
   ]
  },
  {
   "cell_type": "code",
   "execution_count": 38,
   "id": "65c78b82",
   "metadata": {},
   "outputs": [
    {
     "data": {
      "text/plain": [
       "[7, 8, 3, 5, 9]"
      ]
     },
     "execution_count": 38,
     "metadata": {},
     "output_type": "execute_result"
    },
    {
     "name": "stdout",
     "output_type": "stream",
     "text": [
      "[8, 3]\n",
      "[7, 8]\n",
      "[8, 3, 5, 9]\n",
      "[7, 8, 3, 5]\n",
      "[7, 8]\n"
     ]
    }
   ],
   "source": [
    "xs = [7, 8, 3, 5, 9]\n",
    "print(xs[1:3]) # -> [8, 3]\n",
    "print(xs[:2]) # -> [7, 8]\n",
    "print(xs[1:]) # -> [8, 3, 5, 9]\n",
    "print(xs[:-1]) # -> [7, 8, 3, 5]\n",
    "print(xs[:-3]) # -> [7, 8]"
   ]
  },
  {
   "cell_type": "markdown",
   "id": "66fb98dd",
   "metadata": {},
   "source": [
    "A common name for the first element of a list (i.e., `x[0]`) is the head of a list. The list of all but the first elements (`xs[1:]`) is often called tail. Similarly, the last element of a list (`xs[-1]`) is also known as head right, and `xs[:-1]` is also known as tail right. In Figure 2.2 the slicing operator is visualized.\n",
    "\n",
    "| Figure 2.2: A list with indices and slices |\n",
    "- \n",
    "<img src=\"figures/slices.png\" width=40%>\n",
    "<a id='fig:8-1'></a>\n",
    "\n",
    "Two lists can be \"glued\" into a new list. The glueing or concatenation of a list with elements `7, 8, 3` and a list with elements `5,` and `9` is de noted by:"
   ]
  },
  {
   "cell_type": "code",
   "execution_count": 35,
   "id": "0c67c451",
   "metadata": {},
   "outputs": [
    {
     "name": "stdout",
     "output_type": "stream",
     "text": [
      "[7, 8, 3, 5, 9]\n"
     ]
    }
   ],
   "source": [
    "print([7, 8, 3] + [5, 9]) # -> [7, 8, 3, 5, 9]"
   ]
  },
  {
   "cell_type": "markdown",
   "id": "7fbc4013",
   "metadata": {},
   "source": [
    "An element can be added to a list at the rear or at the front. The action is performed by transforming the element into a list and then concatenate these two lists. In the next example the value `5` is added to the rear, respectively the front, of a list:"
   ]
  },
  {
   "cell_type": "code",
   "execution_count": 36,
   "id": "4c958918",
   "metadata": {},
   "outputs": [
    {
     "name": "stdout",
     "output_type": "stream",
     "text": [
      "[7, 8, 3, 5]\n",
      "[5, 7, 8, 3]\n"
     ]
    }
   ],
   "source": [
    "print([7, 8, 3] + [5]) # -> [7, 8, 3, 5]\n",
    "print([5] + [7, 8, 3]) # -> [5, 7, 8, 3]"
   ]
  },
  {
   "cell_type": "markdown",
   "id": "721296ad",
   "metadata": {},
   "source": [
    "Elements also can be removed from a list. The `remove` function removes by position, e.g. `xs.remove(2)` returns the list `xs` without the value `2`."
   ]
  },
  {
   "cell_type": "code",
   "execution_count": null,
   "id": "a6153c33",
   "metadata": {},
   "outputs": [],
   "source": [
    "xs = [1, 4, 2, 4, 5]\n",
    "xs.remove(2) # -> [1, 4, 4, 5]\n",
    "print(xs)"
   ]
  },
  {
   "cell_type": "code",
   "execution_count": null,
   "id": "a7084527",
   "metadata": {},
   "outputs": [],
   "source": [
    "xs = [1, 4, 2, 4, 5]\n",
    "xs.remove(4) # -> [1, 2, 4, 5]\n",
    "print(xs)"
   ]
  },
  {
   "cell_type": "code",
   "execution_count": null,
   "id": "500f2239",
   "metadata": {},
   "outputs": [],
   "source": [
    "xs = [1, 4, 2, 4, 5]\n",
    "xs.remove(8) # -> ERROR (8 does not occur in the list)"
   ]
  },
  {
   "cell_type": "markdown",
   "id": "bf1ceb4d",
   "metadata": {},
   "source": [
    "Every element in the list at the right is searched in the list at the left, and if found, the first occurrence is removed. In the first example, element `2` is removed. In the second example, only the first value `4` is removed and the second value (at position `3`) is kept.\n",
    "\n",
    "Lists have two relational operators, the equal operator and the not-equal operator. The equal operator (`==`) compares two lists. If the lists have the same number of elements and all the elements are pair-wise the same, the result of the operation is `True`, otherwise `False`. The not-equal operator (`!=`) does the same check, but with an opposite result. Some examples, with `xs = [7, 8, 3]`:"
   ]
  },
  {
   "cell_type": "code",
   "execution_count": null,
   "id": "44995ac6",
   "metadata": {},
   "outputs": [],
   "source": [
    "xs = [7, 8, 3]\n",
    "print(xs == [7, 8, 3]) # -> True\n",
    "print(xs == [7, 7, 7]) # -> False"
   ]
  },
  {
   "cell_type": "markdown",
   "id": "259a15df",
   "metadata": {},
   "source": [
    "The membership operator (`in`) checks if an element is in a list. Some examples, with `xs = [7, 8, 3]`:"
   ]
  },
  {
   "cell_type": "code",
   "execution_count": null,
   "id": "55bfb084",
   "metadata": {},
   "outputs": [],
   "source": [
    "xs = [7, 8, 3]\n",
    "print(6 in xs) # -> False\n",
    "print(7 in xs) # -> True\n",
    "print(8 in xs) # -> True"
   ]
  },
  {
   "cell_type": "markdown",
   "id": "eeb4ddc5",
   "metadata": {},
   "source": [
    "### 2.2.2 Sets"
   ]
  },
  {
   "cell_type": "markdown",
   "id": "ea746edf",
   "metadata": {},
   "source": [
    "Set operators for union, intersection and difference are present. The table below gives the name, the mathematical notation and the notation in the language.\n",
    "The union of two sets merges the values of both sets into one, that is, the result is the collection of values that appear in at least one of the arguments of the union operation.\n",
    "\n",
    "| Operator         | Math       | Python          |\n",
    "|------------------|------------|-----------------|\n",
    "| set union        | &cup;      | `.union`        |\n",
    "| set intersection | &cap;      | `.intersection` |\n",
    "| set difference   | &setminus; | `.difference`   |\n",
    "\n",
    "Some examples:"
   ]
  },
  {
   "cell_type": "code",
   "execution_count": null,
   "id": "68965676",
   "metadata": {},
   "outputs": [],
   "source": [
    "xs = {3, 7, 8};\n",
    "print(xs.union({7, 9})) # -> {3, 7, 8, 9}"
   ]
  },
  {
   "cell_type": "markdown",
   "id": "2230339f",
   "metadata": {},
   "source": [
    "All permutations with the elements `3, 5, 7, 8` and `9` are correct (sets have no order, all permutations are equivalent).\n",
    "\n",
    "Values that occur in both arguments, appear only one time in the result\n",
    "(sets silently discard duplicate elements).\n",
    "\n",
    "The intersection of two sets gives a set with the common elements, that\n",
    "is, all values that occur in both arguments. Some examples:"
   ]
  },
  {
   "cell_type": "code",
   "execution_count": null,
   "id": "589b5480",
   "metadata": {},
   "outputs": [],
   "source": [
    "xs = {3, 7, 8}\n",
    "print(xs.intersection({5, 9})) # no common element, empty set\n",
    "print(xs.intersection({7, 9})) # only 7 in common"
   ]
  },
  {
   "cell_type": "markdown",
   "id": "f2cd3ac7",
   "metadata": {},
   "source": [
    "Set difference works much like subtraction on lists, except elements occur at most one time (and have no order). The operation computes \"remaining elements\". The result is a new set containing all values from the first set which are not in the second set. Some examples:"
   ]
  },
  {
   "cell_type": "code",
   "execution_count": null,
   "id": "218c9400",
   "metadata": {},
   "outputs": [],
   "source": [
    "xs = {3, 7, 8}\n",
    "print(xs.difference({5, 9})) # -> {8, 3, 7}\n",
    "print(xs.difference({7, 9})) # -> {8,3}"
   ]
  },
  {
   "cell_type": "markdown",
   "id": "dba1763a",
   "metadata": {},
   "source": [
    "The membership operator in works on sets too:"
   ]
  },
  {
   "cell_type": "code",
   "execution_count": null,
   "id": "5109fa18",
   "metadata": {},
   "outputs": [],
   "source": [
    "print(3 in {3, 7, 8}) # -> True\n",
    "print(9 in {3, 7, 8}) # -> False"
   ]
  },
  {
   "cell_type": "markdown",
   "id": "e7dde76f",
   "metadata": {},
   "source": [
    "### 2.2.3 Dictionaries"
   ]
  },
  {
   "cell_type": "markdown",
   "id": "c64706d8",
   "metadata": {},
   "source": [
    "Elements of dictionaries are stored according to a key, while lists elements are ordered by a (relative) position, and set elements are not ordered at all. A dictionary can grow and shrink by adding or removing elements respectively, like a list or a set. An element of a dictionary is accessed by the key of the element.\n",
    "\n",
    "The dictionary variable `d` of type `(string : int)` is given by:"
   ]
  },
  {
   "cell_type": "code",
   "execution_count": null,
   "id": "1b82caf4",
   "metadata": {},
   "outputs": [],
   "source": [
    "d = {\"jim\" : 32,\n",
    "     \"john\" : 34,\n",
    "     \"adam\" : 25}\n",
    "print(d)"
   ]
  },
  {
   "cell_type": "markdown",
   "id": "c3e896c3",
   "metadata": {},
   "source": [
    "Retrieving values of the dictionary by using the key:"
   ]
  },
  {
   "cell_type": "code",
   "execution_count": null,
   "id": "4edcf8bf",
   "metadata": {},
   "outputs": [],
   "source": [
    "print(d[\"john\"]) # -> 34\n",
    "print(d[\"adam\"]) # -> 25"
   ]
  },
  {
   "cell_type": "markdown",
   "id": "4fef4fc1",
   "metadata": {},
   "source": [
    "Using a non-existing key to retrieve a value results in a error message.\n",
    "\n",
    "A new value can be assigned to the variable by selecting the key of the element:"
   ]
  },
  {
   "cell_type": "code",
   "execution_count": null,
   "id": "06fbabb9",
   "metadata": {},
   "outputs": [],
   "source": [
    "d[\"john\"] = 35\n",
    "print(d)"
   ]
  },
  {
   "cell_type": "markdown",
   "id": "4e6bb198",
   "metadata": {},
   "source": [
    "This assignment changes the value of the `\"john\"` item to `35`. The assignment can also be used to add new items:"
   ]
  },
  {
   "cell_type": "code",
   "execution_count": null,
   "id": "93b69e3f",
   "metadata": {},
   "outputs": [],
   "source": [
    "d[\"lisa\"] = 19\n",
    "print(d)"
   ]
  },
  {
   "cell_type": "markdown",
   "id": "4e04beb6",
   "metadata": {},
   "source": [
    "Membership testing of keys in dictionaries can be done with the in operator:"
   ]
  },
  {
   "cell_type": "code",
   "execution_count": null,
   "id": "6e81ab17",
   "metadata": {},
   "outputs": [],
   "source": [
    "print(\"jim\" in d) # -> Rrue\n",
    "print(\"peter\" in d) # -> False"
   ]
  },
  {
   "cell_type": "markdown",
   "id": "7bf1a775",
   "metadata": {},
   "source": [
    "Merging two dictionaries is done by adding them together. The value of the second dictionary is used when a key exists in both dictionaries:"
   ]
  },
  {
   "cell_type": "code",
   "execution_count": null,
   "id": "4cfca322",
   "metadata": {},
   "outputs": [],
   "source": [
    "print({1 : 1, 2 : 2}|{1 : 5, 3 : 3}) # -> {1 : 5, 2 : 2, 3 : 3}"
   ]
  },
  {
   "cell_type": "markdown",
   "id": "22d81f2a",
   "metadata": {},
   "source": [
    "The left dictionary is copied, and updated with each item of the right dictionary.\n",
    "\n",
    "Removing elements can be done with subtraction, based on key values. Lists and sets can also be used to denote which keys should be removed. A few examples for `d` is `{1 : 1, 8 : 2}`:"
   ]
  },
  {
   "cell_type": "code",
   "execution_count": null,
   "id": "3edc446d",
   "metadata": {},
   "outputs": [],
   "source": [
    "d = {1 : 1, 8 : 2}\n",
    "d.pop(8)\n",
    "print(d)"
   ]
  },
  {
   "cell_type": "markdown",
   "id": "f7b129d9",
   "metadata": {},
   "source": [
    "Subtracting keys that do not exist in the left dictionary is not allowed."
   ]
  },
  {
   "cell_type": "markdown",
   "id": "386ce6ac",
   "metadata": {},
   "source": [
    "# 2.3 Exercises"
   ]
  },
  {
   "cell_type": "markdown",
   "id": "365d4164",
   "metadata": {},
   "source": [
    "1. Exercises for integer numbers. What is the result of the following expressions:<br />\n",
    "    `-5 ** 3`<br />\n",
    "    `-5 * 3`<br />\n",
    "    `-5 % 3`"
   ]
  },
  {
   "cell_type": "code",
   "execution_count": null,
   "id": "ae87caa1",
   "metadata": {},
   "outputs": [],
   "source": []
  },
  {
   "cell_type": "markdown",
   "id": "02df1fde",
   "metadata": {},
   "source": [
    "3. Exercises for lists. Given is the list `xs = [0,1,2,3,4,5,6]`. <br />\n",
    "Determine the outcomes of: <br />\n",
    "`xs[0]`<br />\n",
    "`xs[1:]`<br />\n",
    "`len(xs)`<br />\n",
    "`xs + [3]`<br />\n",
    "`[4,5] + xs`<br />\n",
    "`xs.remove(2)`<br />\n",
    "`xs[0] + (xs[1:])[0]`"
   ]
  },
  {
   "cell_type": "code",
   "execution_count": null,
   "id": "719cb806",
   "metadata": {},
   "outputs": [],
   "source": []
  },
  {
   "cell_type": "markdown",
   "id": "97b09175",
   "metadata": {},
   "source": [
    "# 2.4 Answers to exercises"
   ]
  },
  {
   "cell_type": "markdown",
   "id": "9ceff0f8",
   "metadata": {},
   "source": [
    "1.\n",
    "The answers are: `-125`, `-15`, and `1`."
   ]
  },
  {
   "cell_type": "markdown",
   "id": "109ebfa0",
   "metadata": {},
   "source": [
    "2.\n",
    "The answers are:\n",
    "\n",
    "`[1, 2, 3, 4, 5, 6]`\n",
    "\n",
    "`7`\n",
    "\n",
    "`[0, 1, 2, 3, 4, 5, 6, 3]`\n",
    "\n",
    "`[4, 5, 0, 1, 2, 3, 4, 5, 6]`\n",
    "\n",
    "`[0, 1, 3, 4, 5, 6]`\n",
    "\n",
    "`1`"
   ]
  }
 ],
 "metadata": {
  "kernelspec": {
   "display_name": "Python 3 (ipykernel)",
   "language": "python",
   "name": "python3"
  },
  "language_info": {
   "codemirror_mode": {
    "name": "ipython",
    "version": 3
   },
   "file_extension": ".py",
   "mimetype": "text/x-python",
   "name": "python",
   "nbconvert_exporter": "python",
   "pygments_lexer": "ipython3",
   "version": "3.8.10"
  }
 },
 "nbformat": 4,
 "nbformat_minor": 5
}