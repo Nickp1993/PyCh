{
 "cells": [
  {
   "cell_type": "code",
   "execution_count": null,
   "id": "cac689e9",
   "metadata": {},
   "outputs": [],
   "source": [
    "from PyCh import *"
   ]
  },
  {
   "cell_type": "markdown",
   "id": "ac88320a",
   "metadata": {},
   "source": [
    "# 2 Data types"
   ]
  },
  {
   "cell_type": "markdown",
   "id": "c9ca3e27",
   "metadata": {},
   "source": [
    "Tekst & codes hier"
   ]
  },
  {
   "cell_type": "markdown",
   "id": "de93518b",
   "metadata": {},
   "source": [
    "## 2.1 Elementary types"
   ]
  },
  {
   "cell_type": "markdown",
   "id": "cbfa7216",
   "metadata": {},
   "source": []
  },
  {
   "cell_type": "markdown",
   "id": "aa5556ce",
   "metadata": {},
   "source": [
    "### 2.1.1 Booleans"
   ]
  },
  {
   "cell_type": "markdown",
   "id": "555cbb78",
   "metadata": {},
   "source": []
  },
  {
   "cell_type": "markdown",
   "id": "3a7426dc",
   "metadata": {},
   "source": [
    "### 2.1.2 Numbers"
   ]
  },
  {
   "cell_type": "markdown",
   "id": "10f67175",
   "metadata": {},
   "source": []
  },
  {
   "cell_type": "markdown",
   "id": "9a117ad6",
   "metadata": {},
   "source": [
    "### 2.1.3 Strings"
   ]
  },
  {
   "cell_type": "markdown",
   "id": "2e5a3d80",
   "metadata": {},
   "source": []
  },
  {
   "cell_type": "markdown",
   "id": "c5ac9b80",
   "metadata": {},
   "source": [
    "## 2.2 van het Chi dictaat (tuples) slaan we over"
   ]
  },
  {
   "cell_type": "markdown",
   "id": "8e1ae12e",
   "metadata": {},
   "source": [
    "## 2.2 Container types"
   ]
  },
  {
   "cell_type": "markdown",
   "id": "01c1ad00",
   "metadata": {},
   "source": []
  },
  {
   "cell_type": "markdown",
   "id": "2e4b6776",
   "metadata": {},
   "source": [
    "### 2.2.1 Lists"
   ]
  },
  {
   "cell_type": "markdown",
   "id": "62fb9896",
   "metadata": {},
   "source": []
  },
  {
   "cell_type": "markdown",
   "id": "eeb4ddc5",
   "metadata": {},
   "source": [
    "### 2.2.2 Sets"
   ]
  },
  {
   "cell_type": "markdown",
   "id": "ea746edf",
   "metadata": {},
   "source": []
  },
  {
   "cell_type": "markdown",
   "id": "e7dde76f",
   "metadata": {},
   "source": [
    "### 2.2.3 Dictionaries"
   ]
  },
  {
   "cell_type": "markdown",
   "id": "c64706d8",
   "metadata": {},
   "source": []
  },
  {
   "cell_type": "markdown",
   "id": "e4bc1a18",
   "metadata": {},
   "source": [
    "## 2.3 van het Chi dictaat (custom types) slaan we over"
   ]
  },
  {
   "cell_type": "markdown",
   "id": "386ce6ac",
   "metadata": {},
   "source": [
    "# 2.3 Exercises"
   ]
  },
  {
   "cell_type": "markdown",
   "id": "365d4164",
   "metadata": {},
   "source": []
  },
  {
   "cell_type": "markdown",
   "id": "97b09175",
   "metadata": {},
   "source": [
    "# 2.4 Answers to exercises"
   ]
  },
  {
   "cell_type": "code",
   "execution_count": null,
   "id": "2db944ba",
   "metadata": {},
   "outputs": [],
   "source": []
  }
 ],
 "metadata": {
  "kernelspec": {
   "display_name": "Python 3 (ipykernel)",
   "language": "python",
   "name": "python3"
  },
  "language_info": {
   "codemirror_mode": {
    "name": "ipython",
    "version": 3
   },
   "file_extension": ".py",
   "mimetype": "text/x-python",
   "name": "python",
   "nbconvert_exporter": "python",
   "pygments_lexer": "ipython3",
   "version": "3.8.10"
  }
 },
 "nbformat": 4,
 "nbformat_minor": 5
}
