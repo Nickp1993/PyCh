{
 "cells": [
  {
   "cell_type": "code",
   "execution_count": null,
   "id": "9005095f",
   "metadata": {},
   "outputs": [],
   "source": [
    "from PyCh import *"
   ]
  },
  {
   "cell_type": "markdown",
   "id": "582425c0",
   "metadata": {},
   "source": [
    "# 5 Input and output"
   ]
  },
  {
   "cell_type": "markdown",
   "id": "11b67cf4",
   "metadata": {},
   "source": [
    "## 5.1 Print"
   ]
  },
  {
   "cell_type": "markdown",
   "id": "7f0dc60c",
   "metadata": {},
   "source": [
    "Dit komt qua tekst voor een deel overeen met 5.2 in het chi dictaat, alleen dan gaat dit stukje alleen over output printen en niet naar een bestand schrijven. Dat laatste wordt namelijk beschreven in het volgende stukje\n",
    "\n",
    "Verwijs naar een bron met meer info (e.g. https://realpython.com/python-print/)"
   ]
  },
  {
   "cell_type": "markdown",
   "id": "a2e4226a",
   "metadata": {},
   "source": [
    "## 5.2 Read and write files"
   ]
  },
  {
   "cell_type": "markdown",
   "id": "dac68fb2",
   "metadata": {},
   "source": [
    "Leg kort uit de open, read, write statements uit (e.g. zoals in https://www.guru99.com/reading-and-writing-files-in-python.html, maar dan beknopter). Refereer naar een bron waar het uitgebreider wordt uitgelegd (zoals https://www.guru99.com/reading-and-writing-files-in-python.html).\n",
    "\n",
    "Dit wordt in de huidige lesstof niet gebruikt, dus er hoeft niet veel aandacht hier naar uit te gaan. Het is echter wel nuttig dat studenten weten dat dit een optie is, voor als ze automatisch data op zouden willen slaan."
   ]
  },
  {
   "cell_type": "markdown",
   "id": "69abc40a",
   "metadata": {},
   "source": [
    "## 5.3 Plotting"
   ]
  },
  {
   "cell_type": "markdown",
   "id": "c41e6986",
   "metadata": {},
   "source": [
    "In Chi waren geen plots mogelijk, dus hier staat niks over in het chi dictaat.\n",
    "\n",
    "Leg hier de `matplotlib.pyplot` library van python uit. De functies van deze library vind je in onze tool in de module `plt`. Zie  https://matplotlib.org/stable/api/_as_gen/matplotlib.pyplot.html .\n",
    "\n",
    "Leg vooral uit hoe ze een aantal simpele plotjes kunnen maken, De belangrijkste zijn denk ik plot(), step(), en histogram().\n",
    "\n",
    "\n",
    "Leer ze eerst de basics van hoe ze een plot maken, hoe ze assen kiezen en deze labellen, etc. Je kan naar deze tutorial (https://realpython.com/python-matplotlib-guide/) kijken hoe dit het beste uitgelegd kan worden. Je mag er ook naar verwijzen."
   ]
  },
  {
   "cell_type": "markdown",
   "id": "2b9e0d76",
   "metadata": {},
   "source": [
    "### 5.3.1 Line plot"
   ]
  },
  {
   "cell_type": "markdown",
   "id": "b235cf42",
   "metadata": {},
   "source": [
    "function: plt.plot() (zie https://matplotlib.org/stable/api/_as_gen/matplotlib.pyplot.plot.html) "
   ]
  },
  {
   "cell_type": "markdown",
   "id": "823c0a1e",
   "metadata": {},
   "source": [
    "### 5.3.2 Step plot"
   ]
  },
  {
   "cell_type": "markdown",
   "id": "e8b3c54f",
   "metadata": {},
   "source": [
    "function:  plt.step() (zie https://matplotlib.org/stable/api/_as_gen/matplotlib.pyplot.step.html#matplotlib.pyplot.step)"
   ]
  },
  {
   "cell_type": "markdown",
   "id": "b584fc0a",
   "metadata": {},
   "source": [
    "### 5.3.3 Bar plot"
   ]
  },
  {
   "cell_type": "markdown",
   "id": "62a54df2",
   "metadata": {},
   "source": [
    "function: plt.bar() (zie https://matplotlib.org/stable/api/_as_gen/matplotlib.pyplot.bar.html#matplotlib.pyplot.bar)"
   ]
  },
  {
   "cell_type": "markdown",
   "id": "ef70a2ed",
   "metadata": {},
   "source": [
    "### 5.3.4 Histogram plot"
   ]
  },
  {
   "cell_type": "markdown",
   "id": "c902a053",
   "metadata": {},
   "source": [
    "function:  plt.hist() (zie https://matplotlib.org/stable/api/_as_gen/matplotlib.pyplot.hist.html)"
   ]
  }
 ],
 "metadata": {
  "kernelspec": {
   "display_name": "Python 3 (ipykernel)",
   "language": "python",
   "name": "python3"
  },
  "language_info": {
   "codemirror_mode": {
    "name": "ipython",
    "version": 3
   },
   "file_extension": ".py",
   "mimetype": "text/x-python",
   "name": "python",
   "nbconvert_exporter": "python",
   "pygments_lexer": "ipython3",
   "version": "3.8.10"
  }
 },
 "nbformat": 4,
 "nbformat_minor": 5
}
