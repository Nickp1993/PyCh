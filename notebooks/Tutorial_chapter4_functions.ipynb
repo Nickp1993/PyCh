{
 "cells": [
  {
   "cell_type": "markdown",
   "id": "0f8eecea",
   "metadata": {},
   "source": [
    "<span style=\"color:red\">**Run the cell below to import the required modules for this chapter!**</span>"
   ]
  },
  {
   "cell_type": "code",
   "execution_count": 2,
   "id": "5dd08eb5",
   "metadata": {},
   "outputs": [
    {
     "name": "stdout",
     "output_type": "stream",
     "text": [
      "PyCh version 0.2 imported succesfully.\n",
      " \n"
     ]
    }
   ],
   "source": [
    "from PyCh import *\n",
    "import math\n",
    "from dataclasses import dataclass"
   ]
  },
  {
   "cell_type": "markdown",
   "id": "e36a567b",
   "metadata": {},
   "source": [
    "# 4 Functions and classes"
   ]
  },
  {
   "cell_type": "markdown",
   "id": "879eaee8",
   "metadata": {},
   "source": [
    "Within Python, functions and classes can be used to organize a script, and to reuse certain parts of a script easily."
   ]
  },
  {
   "cell_type": "markdown",
   "id": "1f53a96e",
   "metadata": {},
   "source": [
    "## 4.1 Function definitions"
   ]
  },
  {
   "cell_type": "markdown",
   "id": "55648435",
   "metadata": {},
   "source": [
    "In a model, computations must be performed to process the information that is sent around. Short and simple calculations are written as assignments between the other statements, but for longer computations or computations that are needed at several places in the model, a more encapsulated environment is useful, a *function*. In addition, the language comes with a number of built-in functions, such as `len` or `pop` on container types (possibly by importing libraries). An example:"
   ]
  },
  {
   "cell_type": "code",
   "execution_count": 2,
   "id": "f2e5c4d1",
   "metadata": {},
   "outputs": [],
   "source": [
    "def mean(xs):\n",
    "    Sum = 0\n",
    "    for x in xs:\n",
    "        Sum = Sum + x\n",
    "    return Sum / len(xs)"
   ]
  },
  {
   "cell_type": "markdown",
   "id": "0321c59b",
   "metadata": {},
   "source": [
    "The `def` keyword indicates that a function is defined. It is followed by the name of the function, in this example \"`mean`\". Between the parentheses, the function's arguments (the *input parameters*) are listed. In this example, there is one argument named `xs`. Parameter `xs` is then refered to in the body of the function.\n",
    "\n",
    "The colon `:` at the end of the first line indicates the start of the computation. Below it are new variable declarations (`Sum = 0`), and statements to compute the value, the *function algorithm*. The `return` statement denotes the end of the function algorithm. The value of the expression behind it the function's output (the result of the calculation). This example computes and returns the mean value of the integers of the list.\n",
    "\n",
    "Use of a function (*application* of a function) is done by using its name, followed by the values to be used as input (the *actual parameters*). How the above function can be used is shown below. \n",
    "\n",
    "The actual parameter of this function application is `[1, 3, 5, 7, 9]`. The function result is `(1 + 3 + 5 + 7 + 9)/5` (which is `5.0`)."
   ]
  },
  {
   "cell_type": "code",
   "execution_count": 13,
   "id": "edc6fd2d",
   "metadata": {},
   "outputs": [
    {
     "name": "stdout",
     "output_type": "stream",
     "text": [
      "5.0\n"
     ]
    }
   ],
   "source": [
    "m = mean([1, 3, 5, 7, 9])\n",
    "print(m)"
   ]
  },
  {
   "cell_type": "markdown",
   "id": "cf4ec645",
   "metadata": {},
   "source": [
    "---\n",
    "A function is a mathematical function: the result of a function depends on the input parameters. However, a function has access to global variables (any variable which is defined outside a function). An example is shown below, where the `record` function is used to add variables to the `data` list.\n",
    "\n",
    "The record function does not have a return statement, which means that the function will end (without an output) once all its steps have finished executing."
   ]
  },
  {
   "cell_type": "code",
   "execution_count": 24,
   "id": "d4d2cbdb",
   "metadata": {},
   "outputs": [
    {
     "name": "stdout",
     "output_type": "stream",
     "text": [
      "[1, 3, -5]\n"
     ]
    }
   ],
   "source": [
    "data = []\n",
    "\n",
    "def record(x):\n",
    "    data.append(x)\n",
    "\n",
    "record(1)\n",
    "record(3)\n",
    "record(-5)\n",
    "\n",
    "print(data)"
   ]
  },
  {
   "cell_type": "markdown",
   "id": "fa35e221",
   "metadata": {
    "pycharm": {
     "name": "#%% md\n"
    }
   },
   "source": [
    "**Note: it is very easy to make mistakes when using global variables, so do not use this if you are not sure what you are doing!** It is very easy to lose track of which functions make changes to a global variable. It is better to pass all variables you want a function to use as parameters.\n"
   ]
  },
  {
   "cell_type": "markdown",
   "id": "571b4d51",
   "metadata": {},
   "source": [
    "---\n",
    "It is possible to use multiple `return` statements in a function. An example is shown in the function below, which calculates the sign of a real number. The sign function returns: if `r` is smaller than zero, the value minus one; if `r` equals zero, the value zero; and if `r` is greater than zero, the value one. The computation in a function ends when it encounters a `return` statement. The `return 1` at the end is therefore only executed when both `if` conditions are false."
   ]
  },
  {
   "cell_type": "code",
   "execution_count": 9,
   "id": "520b271e",
   "metadata": {},
   "outputs": [],
   "source": [
    "def sign(r):\n",
    "    if r < 0:\n",
    "        return -1\n",
    "    elif r == 0:\n",
    "        return 0\n",
    "    return 1"
   ]
  },
  {
   "cell_type": "code",
   "execution_count": 11,
   "id": "ae920eab",
   "metadata": {},
   "outputs": [
    {
     "data": {
      "text/plain": [
       "-1"
      ]
     },
     "execution_count": 11,
     "metadata": {},
     "output_type": "execute_result"
    }
   ],
   "source": [
    "sign(-5)"
   ]
  },
  {
   "cell_type": "markdown",
   "id": "710859a8",
   "metadata": {},
   "source": [
    "## 4.2 Dataclasses"
   ]
  },
  {
   "cell_type": "markdown",
   "id": "50b52d8d",
   "metadata": {},
   "source": [
    "Python classes can help to create structures and functionalities in a code, so that the code becomes easier to maintain, and reuse.\n",
    "\n",
    "Classes can be used to create a structure in which data can be stored, together with functionalities that can be defined manually. Creating a new class creates a new type of object, of which new instances can be made. Each class instance can have attributes, which could also be modified afterwards. In this course, we will focus on one specific type of class: a dataclass. Dataclasses are especially useful when modeling entities moving through a production line. We will not go into detail on classes in general, but if you want to learn more about them you can [click here](https://docs.python.org/3/tutorial/classes.html). To make use of dataclasses, firstly enter `from dataclasses import dataclass`.\n",
    "\n",
    "An example of a dataclass is shown below:"
   ]
  },
  {
   "cell_type": "code",
   "execution_count": 7,
   "id": "fdd6f5e7",
   "metadata": {},
   "outputs": [
    {
     "name": "stdout",
     "output_type": "stream",
     "text": [
      "Mark\n",
      "1.75\n",
      "Tom\n"
     ]
    }
   ],
   "source": [
    "@dataclass\n",
    "class Person:\n",
    "    # Class for keeping track of an item in inventory.\n",
    "    name: str\n",
    "    age: int\n",
    "    height: float\n",
    "    \n",
    "person1 = Person(\"Mark\", 45, 1.75)\n",
    "\n",
    "print(person1.name)\n",
    "print(person1.height)\n",
    "\n",
    "person1.name = \"Tom\"\n",
    "print(person1.name)"
   ]
  },
  {
   "cell_type": "markdown",
   "id": "34c2dffb",
   "metadata": {},
   "source": [
    "In the above example, the new dataclass `Person` is defined, which has the properties `name`, `age`, and `height`, with the data types `str`, `int`, and `float` respectively. A dataclass requires you to explicitly define the datatypes of its properties (which is different from defining normal variables). The expression `Person(\"Mark\", 45, 1.75)` assigns values to the states of the dataclass `Person`. Note that the expression `Person()` requires exactly three inputs.\n",
    "\n",
    "---\n",
    "\n",
    "It is also possible to define a default value for a state in a dataclass, this is shown in the example below:"
   ]
  },
  {
   "cell_type": "code",
   "execution_count": 150,
   "id": "135c490c",
   "metadata": {},
   "outputs": [
    {
     "name": "stdout",
     "output_type": "stream",
     "text": [
      "1\n",
      "6\n"
     ]
    }
   ],
   "source": [
    "@dataclass\n",
    "class Product:\n",
    "    # Class for keeping track of a product.\n",
    "    producttype: str\n",
    "    production_time: float\n",
    "    quantity: int = 1\n",
    "    \n",
    "q = Product(\"Banana\",12.5)\n",
    "print(q.quantity)\n",
    "\n",
    "r = Product(\"Banana\",12.5,6)\n",
    "print(r.quantity)"
   ]
  },
  {
   "cell_type": "markdown",
   "id": "6184c6fd",
   "metadata": {},
   "source": [
    "In this case, the default value of the state `quantity` of the dataclass `Product` is 1. When defining a default state in a dataclass, it should be defined **after** the states that do not have a default value. Furthermore, when initiating such a dataclass - in this case `q = Product(\"Banana\",0.25)` - only two inputs are required, however, the state `quantity` can still be defined by adding another input.\n",
    "\n",
    "Functions can be defined within a dataclass as well. An example:"
   ]
  },
  {
   "cell_type": "code",
   "execution_count": 151,
   "id": "1abce1fa",
   "metadata": {},
   "outputs": [
    {
     "name": "stdout",
     "output_type": "stream",
     "text": [
      "4\n"
     ]
    }
   ],
   "source": [
    "@dataclass\n",
    "class Costumer:\n",
    "    name: str\n",
    "    questions: int\n",
    "\n",
    "    def answer(self):\n",
    "        if self.questions > 0:\n",
    "            return self.questions - 1\n",
    "\n",
    "C1 = Costumer(\"John\",5)\n",
    "C1.questions = Costumer.answer(C1)\n",
    "print(C1.questions)"
   ]
  },
  {
   "cell_type": "markdown",
   "id": "4f059406",
   "metadata": {},
   "source": [
    "In this case, the dataclass `Costumer` has two states: `name` and `questions`. Furhtermore, the function `answer` is defined. This function calculates the substraction of the state `questions` with one. Such a function can be called using the dataclass and funtion as follows: `Costumer.answer(C1)`, where `C1` is an instance of the dataclass `Costumer`. In the example above, the state `questions` is redefined using the `answer` function."
   ]
  },
  {
   "cell_type": "markdown",
   "id": "b9ad6b09",
   "metadata": {},
   "source": [
    "## 4.3 Exercises"
   ]
  },
  {
   "cell_type": "markdown",
   "id": "b622d18c",
   "metadata": {},
   "source": [
    "### Exercise 4.3.1\n",
    "Derive a fibonacci-function which outputs the n-th number of the Fibonacci sequence. So, `fibonacci(0) = 0`,  `fibonacci(1) = 1`, `fibonacci(2) = 1`, and `fibonacci(21) = 10946`."
   ]
  },
  {
   "cell_type": "code",
   "execution_count": null,
   "id": "0c437f63",
   "metadata": {
    "pycharm": {
     "name": "#%%\n"
    }
   },
   "outputs": [],
   "source": []
  },
  {
   "cell_type": "markdown",
   "id": "14c736e0",
   "metadata": {},
   "source": [
    "### Exercise 4.3.2\n",
    "\n",
    "Write the following code in a more elegant way, such that the function `total_production_time` can only be used for a specific dataclass. Do this by defining a dataclass, including a function defined for the dataclass only. "
   ]
  },
  {
   "cell_type": "code",
   "execution_count": 8,
   "id": "a1eda986",
   "metadata": {
    "pycharm": {
     "name": "#%%\n"
    }
   },
   "outputs": [
    {
     "name": "stdout",
     "output_type": "stream",
     "text": [
      "120000\n",
      "125000\n",
      "216000\n"
     ]
    }
   ],
   "source": [
    "# The original code without dataclasses\n",
    "\n",
    "def total_production_time(amount,production_time):\n",
    "    return amount * production_time\n",
    "\n",
    "# Car 1\n",
    "Car1_amount = 4000\n",
    "Car1_production_time = 30\n",
    "\n",
    "# Car 2\n",
    "Car2_amount = 5000\n",
    "Car2_production_time = 25\n",
    "\n",
    "# Car 3\n",
    "Car3_amount = 24000\n",
    "Car3_production_time = 9\n",
    "\n",
    "print(total_production_time(Car1_amount, Car1_production_time))\n",
    "print(total_production_time(Car2_amount, Car2_production_time))\n",
    "print(total_production_time(Car3_amount, Car3_production_time))"
   ]
  },
  {
   "cell_type": "code",
   "execution_count": null,
   "id": "6fef5073",
   "metadata": {},
   "outputs": [],
   "source": [
    "# Your code with dataclasses.\n"
   ]
  },
  {
   "cell_type": "markdown",
   "id": "787e893f",
   "metadata": {},
   "source": [
    "## 4.4 Answers to exercises"
   ]
  },
  {
   "cell_type": "markdown",
   "id": "5855ed91",
   "metadata": {},
   "source": [
    "### Answer to 4.3.1\n",
    "The answer is:"
   ]
  },
  {
   "cell_type": "code",
   "execution_count": 152,
   "id": "dab11ee9",
   "metadata": {},
   "outputs": [
    {
     "name": "stdout",
     "output_type": "stream",
     "text": [
      "10946\n"
     ]
    }
   ],
   "source": [
    "# 1\n",
    "def fibonacci(n: int):\n",
    "    Old = 0\n",
    "    New = 1\n",
    "    while n>0:\n",
    "        Old, New = New, New+Old\n",
    "        n = n-1\n",
    "    return Old\n",
    "        \n",
    "print(fibonacci(21))"
   ]
  },
  {
   "cell_type": "markdown",
   "id": "06b64ac3",
   "metadata": {},
   "source": [
    "### Answer to 4.3.2\n",
    "The answer is:"
   ]
  },
  {
   "cell_type": "code",
   "execution_count": 153,
   "id": "3ac39b12",
   "metadata": {},
   "outputs": [
    {
     "name": "stdout",
     "output_type": "stream",
     "text": [
      "120000\n",
      "125000\n",
      "216000\n"
     ]
    }
   ],
   "source": [
    "# 2\n",
    "@dataclass\n",
    "class Car:\n",
    "    amount: int\n",
    "    production_time: float\n",
    "    \n",
    "    def total_production_time(self):\n",
    "        return self.amount * self.production_time\n",
    "\n",
    "# Car 1\n",
    "Car1 = Car(4000, 30)\n",
    "\n",
    "# Car 2\n",
    "Car2 = Car(5000, 25)\n",
    "\n",
    "# Car 3\n",
    "Car3 = Car(24000, 9)\n",
    "\n",
    "print(Car.total_production_time(Car1))\n",
    "print(Car.total_production_time(Car2))\n",
    "print(Car.total_production_time(Car3))"
   ]
  }
 ],
 "metadata": {
  "kernelspec": {
   "display_name": "Python 3 (ipykernel)",
   "language": "python",
   "name": "python3"
  },
  "language_info": {
   "codemirror_mode": {
    "name": "ipython",
    "version": 3
   },
   "file_extension": ".py",
   "mimetype": "text/x-python",
   "name": "python",
   "nbconvert_exporter": "python",
   "pygments_lexer": "ipython3",
   "version": "3.8.10"
  }
 },
 "nbformat": 4,
 "nbformat_minor": 5
}
