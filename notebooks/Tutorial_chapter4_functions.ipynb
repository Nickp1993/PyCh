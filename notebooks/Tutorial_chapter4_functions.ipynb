{
 "cells": [
  {
   "cell_type": "code",
   "execution_count": null,
   "id": "5dd08eb5",
   "metadata": {},
   "outputs": [],
   "source": [
    "from PyCh import *"
   ]
  },
  {
   "cell_type": "markdown",
   "id": "e36a567b",
   "metadata": {},
   "source": [
    "# 4 Functions and classes"
   ]
  },
  {
   "cell_type": "markdown",
   "id": "879eaee8",
   "metadata": {},
   "source": [
    "Dit hoofdstuk is voor een groot deel anders dan het Chi dictaat!\n",
    "In ons geval gaat het over hoe je in python functies en classes definieert."
   ]
  },
  {
   "cell_type": "markdown",
   "id": "fe5d1f28",
   "metadata": {},
   "source": [
    "## 4.1 van het chi dictaat (sorted lists) slaan we over"
   ]
  },
  {
   "cell_type": "markdown",
   "id": "1f53a96e",
   "metadata": {},
   "source": [
    "## 4.1 Function definitions"
   ]
  },
  {
   "cell_type": "markdown",
   "id": "bd5fb97d",
   "metadata": {},
   "source": [
    "Dit stuk komt grotendeels overeen met het eerste stuk van hoofdstuk 4 in het chi dictaat. Leg hier uit hoe studenten zelf functies kunnen definiëren."
   ]
  },
  {
   "cell_type": "markdown",
   "id": "710859a8",
   "metadata": {},
   "source": [
    "## 4.2 Dataclasses"
   ]
  },
  {
   "cell_type": "markdown",
   "id": "fe7fa028",
   "metadata": {},
   "source": [
    "In chi dictaat zijn geen classes gebruikt, dus dit onderdeel is nieuw\n",
    "\n",
    "Benoem eerst dat een van de belangrijkste concepten in Python een \"class\" is, en verwijs naar documentatie hierover (e.g. https://docs.python.org/3/tutorial/classes.html)\n",
    "\n",
    "Benoem daarna dat we ons in de lesstof beperken tot dataclasses, en geef hier wat informatie en voorbeelden over hoe dataclasses werken (https://docs.python.org/3/library/dataclasses.html)\n",
    "\n",
    "We gebruiken dataclasses vooral om entities te modelleren (dus de objecten die door onze modellen stromen), maak dit ook duidelijk, en gebruik dit bij de voorbeelden (e.g. de ene keer een \"customer\" als voorbeeld, en de andere keer een \"product\""
   ]
  },
  {
   "cell_type": "markdown",
   "id": "b9ad6b09",
   "metadata": {},
   "source": [
    "## 4.3 Exercises"
   ]
  },
  {
   "cell_type": "raw",
   "id": "ff5e4cec",
   "metadata": {},
   "source": [
    "In het chi dictaat staan geen opdrachten, maar probeer een aantal simpele opdrachten te verzinnen waarin iemand zelf functions en data classes moet verzinnen"
   ]
  },
  {
   "cell_type": "markdown",
   "id": "787e893f",
   "metadata": {},
   "source": [
    "## 4.4 Answers to exercises"
   ]
  },
  {
   "cell_type": "markdown",
   "id": "78e368a2",
   "metadata": {},
   "source": []
  }
 ],
 "metadata": {
  "kernelspec": {
   "display_name": "Python 3 (ipykernel)",
   "language": "python",
   "name": "python3"
  },
  "language_info": {
   "codemirror_mode": {
    "name": "ipython",
    "version": 3
   },
   "file_extension": ".py",
   "mimetype": "text/x-python",
   "name": "python",
   "nbconvert_exporter": "python",
   "pygments_lexer": "ipython3",
   "version": "3.8.10"
  }
 },
 "nbformat": 4,
 "nbformat_minor": 5
}
