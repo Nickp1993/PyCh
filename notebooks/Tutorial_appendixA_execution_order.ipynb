{
 "cells": [
  {
   "cell_type": "code",
   "execution_count": 2,
   "metadata": {},
   "outputs": [
    {
     "name": "stdout",
     "output_type": "stream",
     "text": [
      "PyCh version 0.2 imported succesfully.\n",
      " \n"
     ]
    }
   ],
   "source": [
    "from PyCh import *"
   ]
  },
  {
   "cell_type": "markdown",
   "metadata": {},
   "source": [
    "## Appendix A: process execution order\n",
    "In this appendix we discuss how PyCh handles the order in which processes are executed.\n",
    "Processes can be running parallel at the same time. If multiple processes generate an event simultaneously,\n",
    " the event which was scheduled first goes first (the event is scheduled as soon as the process reaches the `yield` statement). In the below example, we compare two models. In `model1` we first define process `P1` and then process `P2`. The reverse is done in `model2` . As we can see in the example, when events are scheduled simultaneously, the event of the process which was defined first is executed first (process `P1` in `model1`, and process `P2` in `model2`) ."
   ]
  },
  {
   "cell_type": "code",
   "execution_count": 19,
   "metadata": {
    "pycharm": {
     "name": "#%%\n"
    }
   },
   "outputs": [
    {
     "name": "stdout",
     "output_type": "stream",
     "text": [
      "First we run model 1:\n",
      "Process 1 is finished at time 1.0\n",
      "Process 2 is finished at time 1.0\n",
      "\n",
      "Then we run model 2:\n",
      "Process 2 is finished at time 1.0\n",
      "Process 1 is finished at time 1.0\n"
     ]
    }
   ],
   "source": [
    "@process\n",
    "def P(env, i):\n",
    "    yield env.timeout(1)\n",
    "    print(\"Process %d is finished at time %.1f\" % (i, env.now))\n",
    "\n",
    "def model1():\n",
    "    env = Environment()\n",
    "    P1 = P(env, 1)\n",
    "    P2 = P(env, 2)\n",
    "    env.run()\n",
    "    \n",
    "def model2():\n",
    "    env = Environment()\n",
    "    P2 = P(env, 2)\n",
    "    P1 = P(env, 1)\n",
    "    env.run()\n",
    "\n",
    "print(\"First we run model 1:\")    \n",
    "model1()\n",
    "print(\"\\n\" + \"Then we run model 2:\")  \n",
    "model2()"
   ]
  },
  {
   "cell_type": "markdown",
   "metadata": {},
   "source": [
    "---\n",
    "Below we have an example in which the events are not generated simultaneously. In the example, we expect process `P2` to be finished first, as its event is scheduled before the second event of process `P1`."
   ]
  },
  {
   "cell_type": "code",
   "execution_count": 20,
   "metadata": {
    "pycharm": {
     "name": "#%%\n"
    }
   },
   "outputs": [
    {
     "name": "stdout",
     "output_type": "stream",
     "text": [
      "Process 1 is halfway done at time 0.5\n",
      "Process 2 is finished at time 1.0\n",
      "Process 1 is finished at time 1.0\n"
     ]
    }
   ],
   "source": [
    "@process\n",
    "def P_one(env, i):\n",
    "    yield env.timeout(0.5)\n",
    "    print(\"Process %d is halfway done at time %.1f\" % (i, env.now))\n",
    "    yield env.timeout(0.5)\n",
    "    print(\"Process %d is finished at time %.1f\" % (i, env.now))\n",
    "\n",
    "@process\n",
    "def P_two(env, i):\n",
    "    yield env.timeout(1)\n",
    "    print(\"Process %d is finished at time %.1f\" % (i, env.now))\n",
    "\n",
    "def model():\n",
    "    env = Environment()\n",
    "    P1 = P_one(env, 1)\n",
    "    P2 = P_two(env, 2)\n",
    "    env.run()\n",
    "    \n",
    "model()"
   ]
  },
  {
   "cell_type": "markdown",
   "metadata": {},
   "source": []
  },
  {
   "cell_type": "code",
   "execution_count": null,
   "metadata": {},
   "outputs": [],
   "source": []
  }
 ],
 "metadata": {
  "kernelspec": {
   "display_name": "Python (pychEnv)",
   "language": "python",
   "name": "pychenv"
  },
  "language_info": {
   "codemirror_mode": {
    "name": "ipython",
    "version": 3
   },
   "file_extension": ".py",
   "mimetype": "text/x-python",
   "name": "python",
   "nbconvert_exporter": "python",
   "pygments_lexer": "ipython3",
   "version": "3.7.1"
  }
 },
 "nbformat": 4,
 "nbformat_minor": 5
}
