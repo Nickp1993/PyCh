{
 "cells": [
  {
   "cell_type": "markdown",
   "id": "c4cb6a4f",
   "metadata": {},
   "source": [
    "## Appendix A: process execution order\n",
    "In this appendix we discuss how PyCh handles the order in which processes are executed.\n",
    "Processes can be running parallel at the same time. If multiple processes generate an event simultaneously,\n",
    " the event which was scheduled first goes first (the event is scheduled as soon as the process reaches the `yield` statement). In the below example, the events are scheduled simultaneously, in which case the event of the process which was defined first (process `P1`) is executed first."
   ]
  },
  {
   "cell_type": "code",
   "execution_count": null,
   "id": "5be41b62",
   "metadata": {
    "pycharm": {
     "name": "#%%\n"
    }
   },
   "outputs": [],
   "source": [
    "@process\n",
    "def P(env, i):\n",
    "    yield env.timeout(1)\n",
    "    print(\"Process %d is finished at time %.1f\" % (i, env.now))\n",
    "\n",
    "def model():\n",
    "    env = Environment()\n",
    "    P1 = P(env, 1)\n",
    "    P2 = P(env, 2)\n",
    "    env.run()\n",
    "    \n",
    "model()"
   ]
  },
  {
   "cell_type": "markdown",
   "id": "da8ea48e",
   "metadata": {},
   "source": [
    "---\n",
    "Below we have an example in which the events are not generated simultaneously. In the example, we expect process `P2` to be finished first, as its event is scheduled before the second event of process `P1`."
   ]
  },
  {
   "cell_type": "code",
   "execution_count": null,
   "id": "c7c0e3fc",
   "metadata": {
    "pycharm": {
     "name": "#%%\n"
    }
   },
   "outputs": [],
   "source": [
    "@process\n",
    "def P_a(env, i):\n",
    "    yield env.timeout(0.5)\n",
    "    print(\"Process %d is halfway done at time %.1f\" % (i, env.now))\n",
    "    yield env.timeout(0.5)\n",
    "    print(\"Process %d is finished at time %.1f\" % (i, env.now))\n",
    "\n",
    "@process\n",
    "def P_b(env, i):\n",
    "    yield env.timeout(1)\n",
    "    print(\"Process %d is finished at time %.1f\" % (i, env.now))\n",
    "\n",
    "def model():\n",
    "    env = Environment()\n",
    "    P1 = P_a(env, 1)\n",
    "    P2 = P_b(env, 2)\n",
    "    env.run()\n",
    "    \n",
    "model()"
   ]
  }
 ],
 "metadata": {
  "kernelspec": {
   "display_name": "Python (pychEnv)",
   "language": "python",
   "name": "pychenv"
  },
  "language_info": {
   "codemirror_mode": {
    "name": "ipython",
    "version": 3
   },
   "file_extension": ".py",
   "mimetype": "text/x-python",
   "name": "python",
   "nbconvert_exporter": "python",
   "pygments_lexer": "ipython3",
   "version": "3.8.10"
  }
 },
 "nbformat": 4,
 "nbformat_minor": 5
}