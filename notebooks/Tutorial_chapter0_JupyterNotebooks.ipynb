{
 "cells": [
  {
   "cell_type": "markdown",
   "id": "89471f91",
   "metadata": {},
   "source": [
    "# Jupyter Notebook"
   ]
  },
  {
   "cell_type": "markdown",
   "id": "5b00ab33",
   "metadata": {},
   "source": [
    "An important component of Jupyter Notebooks, is that if a cell defines an object (e.g a variable, function or class), then after you run that cell, the object stays defined that way.\n",
    "\n",
    "Note that the order in which you run cells is important! It is recommended to run cells in the order in which they are given. \n",
    "\n",
    "See the example below, try the following and see what happens: run the first cell, then second, then third, then second again!"
   ]
  },
  {
   "cell_type": "code",
   "execution_count": 4,
   "id": "95bf1b23",
   "metadata": {},
   "outputs": [],
   "source": [
    "i = 1"
   ]
  },
  {
   "cell_type": "code",
   "execution_count": 7,
   "id": "73e089e2",
   "metadata": {},
   "outputs": [
    {
     "name": "stdout",
     "output_type": "stream",
     "text": [
      "2\n"
     ]
    }
   ],
   "source": [
    "print(i)"
   ]
  },
  {
   "cell_type": "code",
   "execution_count": 6,
   "id": "6b854c67",
   "metadata": {},
   "outputs": [],
   "source": [
    "i = 2"
   ]
  }
 ],
 "metadata": {
  "kernelspec": {
   "display_name": "Python 3 (ipykernel)",
   "language": "python",
   "name": "python3"
  },
  "language_info": {
   "codemirror_mode": {
    "name": "ipython",
    "version": 3
   },
   "file_extension": ".py",
   "mimetype": "text/x-python",
   "name": "python",
   "nbconvert_exporter": "python",
   "pygments_lexer": "ipython3",
   "version": "3.8.10"
  }
 },
 "nbformat": 4,
 "nbformat_minor": 5
}
