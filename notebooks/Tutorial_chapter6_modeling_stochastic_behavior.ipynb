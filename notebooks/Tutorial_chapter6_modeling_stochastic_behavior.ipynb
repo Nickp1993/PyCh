{
 "cells": [
  {
   "cell_type": "markdown",
   "id": "c434a7c5",
   "metadata": {},
   "source": [
    "The distributions used in this chapter are retrieved from a python library: `numpy.random`. Therefore, the library is first imported (under the alias `random`)."
   ]
  },
  {
   "cell_type": "code",
   "execution_count": 49,
   "id": "223c805f",
   "metadata": {},
   "outputs": [],
   "source": [
    "import numpy as np\n",
    "import numpy.random as random\n",
    "import matplotlib.pyplot as plt"
   ]
  },
  {
   "cell_type": "markdown",
   "id": "5957a3d8",
   "metadata": {},
   "source": [
    "# 6 Modeling stochastic behavior"
   ]
  },
  {
   "cell_type": "markdown",
   "id": "5b6ca483",
   "metadata": {},
   "source": [
    "Many processes in the world vary a little bit each time they are performed. Setup of machines goes a bit faster or slower, patients taking their medicine takes longer this morning, more products are delivered today, or the quality of the manufactured product degrades due to a tired operator. Modeling such variations is often done with stochastic distributions. A distribution has a mean value and a known shape of variation. By matching the means and the variation shape with data from the system being modeled, an accurate model of the system can be obtained. We use the `numpy.random` library, which has many stochastic distributions available. This chapter explains how to use them to model a system, and lists a few commonly used distributions. \n",
    "\n",
    "The following fragment illustrates the use of the random distribution to model a dice. Each value of the six-sided dice is equally likely to appear. Every value having the same probability of appearing is a property of the integer\n",
    "uniform distribution, in this case using interval $[1, 7)$ (inclusive on the left side, exclusive on the right side).\n",
    "\n",
    "In the fragment, the distribution `dice` is defined using a lambda function of the `numpy.random` random integer function `randint`. We simulate two dice throws by taking two samples of this distribution by calling `dice()`.\n"
   ]
  },
  {
   "cell_type": "code",
   "execution_count": 80,
   "id": "e7f812e7",
   "metadata": {},
   "outputs": [
    {
     "name": "stdout",
     "output_type": "stream",
     "text": [
      "The dice land on 4 and 4.\n"
     ]
    }
   ],
   "source": [
    "dice = lambda: random.randint(1,7)  # Defining the distribution through a lambda function\n",
    "\n",
    "# Taking two random samples\n",
    "dice_throw1 = dice()\n",
    "dice_throw2 = dice()\n",
    "\n",
    "print(f\"The dice land on {dice_throw1} and {dice_throw2}.\") # Printing the results"
   ]
  },
  {
   "cell_type": "markdown",
   "id": "1b8f33de",
   "metadata": {},
   "source": [
    "## 6.1 Lambda functions"
   ]
  },
  {
   "cell_type": "markdown",
   "id": "dbc1c8b7",
   "metadata": {},
   "source": [
    "Lambda functions are like a simplified version of normal python functions. While other functions are defined using the `def` keyword, the lambda function is defined using the `lambda` keyword. There are many reasons for using lambda functions. However, in this course, we will use lambda functions for one purpose only: to define stochastic distributions. If you want to find out about other uses of lambda function [click here](https://realpython.com/python-lambda/).\n",
    "\n",
    "Below we find the most simple example of defining a stochastic distribution with the lambda function. A constant distribution `u` is defined, which when sampled returns `3`. We can take a sample by calling `u()`. More will be explained on constant distributions and other distributions in the next section."
   ]
  },
  {
   "cell_type": "code",
   "execution_count": 81,
   "id": "3325915f",
   "metadata": {},
   "outputs": [
    {
     "name": "stdout",
     "output_type": "stream",
     "text": [
      "The value 3 was sampled.\n"
     ]
    }
   ],
   "source": [
    "u = lambda: 3  # Defining the constant distribution\n",
    "y = u()        # Taking a sample\n",
    "print(f\"The value {y} was sampled.\")"
   ]
  },
  {
   "cell_type": "markdown",
   "id": "81fecc1f",
   "metadata": {},
   "source": [
    "Lambda functions are defined as `lambda <input parameters> : <output function>`. As you can see, they can also accept input parameters.\n",
    "\n",
    "Below is an example in which we define a function for throwing an n-sided dice, which takes `n` as input, and returns a random integer between `1` and `n+1` (more on the `randint` later)."
   ]
  },
  {
   "cell_type": "code",
   "execution_count": 82,
   "id": "3a93d219",
   "metadata": {},
   "outputs": [
    {
     "name": "stdout",
     "output_type": "stream",
     "text": [
      "The value 18 was sampled.\n"
     ]
    }
   ],
   "source": [
    "dice = lambda n: random.randint(1,n+1)  # We define a function for throwing an x-sided dice.\n",
    "y = dice(20)                            # We sample throwing a 20-sided dice\n",
    "print(f\"The value {y} was sampled.\")"
   ]
  },
  {
   "cell_type": "markdown",
   "id": "d2780a61",
   "metadata": {},
   "source": [
    "## 6.2 Distributions"
   ]
  },
  {
   "cell_type": "markdown",
   "id": "533d6e6d",
   "metadata": {},
   "source": [
    "In our models we use both constant, discrete and continuous distributions. A discrete distribution is a distribution where only  specific values can be drawn, for example throwing a dice gives an integer number. A continuous distribution is a distribution where a value from a continuous range can be drawn, for example assembling a product takes a positive amount of time. The constant distributions are discrete distributions that always return the same value. They are useful during the development of the model. A list of distributions and information on how to use them can be found [here](https://numpy.org/doc/1.16/reference/routines.random.html)."
   ]
  },
  {
   "cell_type": "markdown",
   "id": "5006dc1a",
   "metadata": {},
   "source": [
    "### 6.2.1 Constant distributions"
   ]
  },
  {
   "cell_type": "markdown",
   "id": "7707c1fb",
   "metadata": {},
   "source": [
    "When developing a model with stochastic behavior, it is hard to verify whether the model behaves correctly, since the stochastic results\n",
    "make it difficult to predict the outcome of experiments. As a result, errors in the model may not be noticed, they hide in the noise of\n",
    "the stochastic results.\n",
    "One solution is to first write a model without stochastic behavior, verify that model, and then extend the model with stochastic sampling.\n",
    "Extending the model with stochastic behavior is however an invasive change that may introduce new errors. These errors are again hard to\n",
    "find due to the difficulties to predict the outcome of an experiment.\n",
    "The constant distributions aim to narrow the gap by reducing the amount of changes that need to be done after verification.\n",
    "\n",
    "With constant distributions, a stochastic model with sampling of distributions is developed, but the stochastic behavior is eliminated by\n",
    "temporarily using constant distributions. The model performs stochastic sampling of values, but with predictable outcome,\n",
    "and thus with predictable experimental results, making verification easier. After verifying the model, the constant distributions are replaced with the\n",
    "distributions that fit the mean value and variation pattern of the modeled system, giving a model with stochastic behavior.\n",
    "Changing the used distributions is however much less invasive, making it less likely to introduce new errors at this stage in the development of the model.\n",
    "\n",
    "An example of a constant distribution was already shown before, but here it is repeated:"
   ]
  },
  {
   "cell_type": "code",
   "execution_count": 78,
   "id": "4586d302",
   "metadata": {},
   "outputs": [
    {
     "name": "stdout",
     "output_type": "stream",
     "text": [
      "The value 3 was sampled.\n"
     ]
    }
   ],
   "source": [
    "u = lambda: 3  # Defining the constant distribution\n",
    "y = u()        # Taking a sample\n",
    "print(f\"The value {y} was sampled.\")"
   ]
  },
  {
   "cell_type": "markdown",
   "id": "f1519e53",
   "metadata": {},
   "source": [
    "### 6.2.2 Discrete distributions"
   ]
  },
  {
   "cell_type": "markdown",
   "id": "f73d6885",
   "metadata": {},
   "source": [
    "Discrete distributions return values from a finite fixed set of possible values as answer. In the `numpy.random` library, there are few discrete distributions: \n",
    "\n",
    "there is one distribution that returns a boolean when sampled, and there are several discrete distributions that return an integer number."
   ]
  },
  {
   "cell_type": "markdown",
   "id": "4c03aa65",
   "metadata": {},
   "source": [
    "#### Binomial & Bernoulli"
   ]
  },
  {
   "cell_type": "markdown",
   "id": "70ee9f06",
   "metadata": {},
   "source": [
    "The binomial distribution `random.binomial(n, p)` is a discrete distribution which is used to model the outcome of an experiment with `n` trials, each with `p` chance of succes.\n",
    "\n",
    "The mean and variance of the binomial distribution are:\n",
    "\n",
    "mean: $np$\n",
    "\n",
    "variance: $np(1-p)$\n",
    "\n",
    "Below we show an example of the binomial distribution, in which we model the flipping of a coin `10` times, with `p = 0.5` probability of succes (heads)."
   ]
  },
  {
   "cell_type": "code",
   "execution_count": 192,
   "id": "2d0cfe90",
   "metadata": {},
   "outputs": [
    {
     "name": "stdout",
     "output_type": "stream",
     "text": [
      "We flip a coin 10 times, it lands on head 7 times.\n"
     ]
    }
   ],
   "source": [
    "p = 0.5  # probability of heads\n",
    "coin_flipping = lambda n : random.binomial(n, p)  # Defining the binomial distribution for flipping a coin n times\n",
    "\n",
    "N = 10\n",
    "heads = coin_flipping(N)\n",
    "print(f\"We flip a coin {N} times, it lands on head {heads} times.\")"
   ]
  },
  {
   "cell_type": "markdown",
   "id": "62b0038f",
   "metadata": {},
   "source": [
    "---\n",
    "#### Bernoulli distribution\n",
    "\n",
    "A special case of the Binomial distribution is the Bernoulli distribution, which is the case in which `n = 1`, and thus has two possible outcomes: 0 and 1. The bernoulli distribution is defined with `random.binomial(1, p)`\n",
    "\n",
    "\n",
    "| Figure 6.1: Bernoulli distribution|\n",
    "- \n",
    "<img src=\"figures/6-bernoulli.png\" width=35%>\n",
    "<a id='fig:6-1'></a>\n",
    "\n",
    "\n",
    "For this distribution, the mean and variance are given by:\n",
    "\n",
    "mean: $p$\n",
    "\n",
    "variance: $p(1-p)$"
   ]
  },
  {
   "cell_type": "markdown",
   "id": "f9068e89",
   "metadata": {},
   "source": [
    "---\n",
    "Below is an example in which we plot the outcome of taking 10 samples of a coin flip."
   ]
  },
  {
   "cell_type": "code",
   "execution_count": 217,
   "id": "7cb9cc6d",
   "metadata": {},
   "outputs": [
    {
     "name": "stdout",
     "output_type": "stream",
     "text": [
      "The result of the coin flips is: ['heads', 'heads', 'heads', 'tails', 'heads', 'heads', 'tails', 'heads', 'tails', 'tails']\n"
     ]
    },
    {
     "data": {
      "image/png": "[encoded data removed]",
      "text/plain": [
       "<Figure size 432x288 with 1 Axes>"
      ]
     },
     "metadata": {
      "needs_background": "light"
     },
     "output_type": "display_data"
    }
   ],
   "source": [
    "p = 0.5\n",
    "samples = random.binomial(1, p, 10)  # We take 10 samples of the bernoulli distribution\n",
    "\n",
    "print(f\"The result of the coin flips is:\", [\"heads\" if sample == 1 else \"tails\" for sample in samples])\n",
    "fig = plt.figure()\n",
    "hist = plt.hist(samples, bins = [-0.1,0.1,0.9,1.1])"
   ]
  },
  {
   "cell_type": "markdown",
   "id": "1db809f4",
   "metadata": {},
   "source": [
    "#### Discrete uniform"
   ]
  },
  {
   "cell_type": "markdown",
   "id": "a916a806",
   "metadata": {},
   "source": [
    "Discrete distribution that has several equally likely outcomes for the numbers `{a, a+1, a+2, ..., b-2, b-1}`. Note that `b` is not included.\n",
    "\n",
    "| Figure 6.2: Discrete uniform distribution|\n",
    "- \n",
    "<img src=\"figures/6-disc_uni.png\" width=35%>\n",
    "<a id='fig:6-2'></a>\n",
    "\n",
    "For this distribution, the mean and variance are given by:\n",
    "\n",
    "mean:  $\\frac{a+b-1}{2}$\n",
    "\n",
    "variance:  $\\frac{(b-a)^2-1}{12}$\n",
    "\n"
   ]
  },
  {
   "cell_type": "code",
   "execution_count": 79,
   "id": "f1b77f26",
   "metadata": {},
   "outputs": [
    {
     "data": {
      "text/plain": [
       "array([2, 3, 1])"
      ]
     },
     "execution_count": 79,
     "metadata": {},
     "output_type": "execute_result"
    }
   ],
   "source": [
    "a = 1 # lower bound\n",
    "b = 5 # upper bound\n",
    "random.randint(a,b, size=3)"
   ]
  },
  {
   "cell_type": "markdown",
   "id": "81b5313f",
   "metadata": {},
   "source": [
    "#### Random choice"
   ]
  },
  {
   "cell_type": "markdown",
   "id": "6024bbfc",
   "metadata": {},
   "source": [
    "Discrete distribution that can be given different probabilities for each of the outcomes, the numbers `{0, ..., a-2, a-1}`. Note that `a` is not included."
   ]
  },
  {
   "cell_type": "code",
   "execution_count": 20,
   "id": "5319fd2a",
   "metadata": {},
   "outputs": [
    {
     "data": {
      "text/plain": [
       "array([3, 3, 2])"
      ]
     },
     "execution_count": 20,
     "metadata": {},
     "output_type": "execute_result"
    }
   ],
   "source": [
    "a = 5 # upper bound\n",
    "size = 3\n",
    "random.choice(a, size, p=[0.1, 0.2, 0.4, 0.2, 0.1])"
   ]
  },
  {
   "cell_type": "markdown",
   "id": "03a96a94",
   "metadata": {},
   "source": [
    "For this distribution, the mean and variance are given by:\n",
    "\n",
    "mean: $??$\n",
    "\n",
    "variance: $??$"
   ]
  },
  {
   "cell_type": "markdown",
   "id": "31fd1053",
   "metadata": {},
   "source": [
    "### 6.2.3 Continuous distributions"
   ]
  },
  {
   "cell_type": "markdown",
   "id": "ecd5561d",
   "metadata": {},
   "source": [
    "Continuous distributions return a value from a continuous range."
   ]
  },
  {
   "cell_type": "markdown",
   "id": "e611a041",
   "metadata": {},
   "source": [
    "#### Continuous uniform"
   ]
  },
  {
   "cell_type": "markdown",
   "id": "5268740e",
   "metadata": {},
   "source": [
    "Continuous distribution with equal chnace of sampling each value in the range `[a,b)`. Note that `b` is not included."
   ]
  },
  {
   "cell_type": "code",
   "execution_count": 52,
   "id": "c1fc6370",
   "metadata": {},
   "outputs": [
    {
     "data": {
      "text/plain": [
       "array([2.76714199, 1.08674531, 2.78012486])"
      ]
     },
     "execution_count": 52,
     "metadata": {},
     "output_type": "execute_result"
    }
   ],
   "source": [
    "a = 1 # lower bound\n",
    "b = 5 # upper bound\n",
    "size = 3\n",
    "random.uniform(a,b,size)"
   ]
  },
  {
   "cell_type": "markdown",
   "id": "e4038393",
   "metadata": {},
   "source": [
    "For this distribution, the mean and variance are given by:\n",
    "\n",
    "mean: $\\frac{a+b}{2}$\n",
    "\n",
    "variance: $\\frac{(b-a)^2}{12}$"
   ]
  },
  {
   "cell_type": "markdown",
   "id": "04cad910",
   "metadata": {},
   "source": [
    "#### Gamma"
   ]
  },
  {
   "cell_type": "markdown",
   "id": "b41a3dd4",
   "metadata": {},
   "source": [
    "Distribution which has either a decreasing probability function, or a peak."
   ]
  },
  {
   "cell_type": "code",
   "execution_count": 22,
   "id": "2ea12572",
   "metadata": {},
   "outputs": [
    {
     "data": {
      "text/plain": [
       "array([0.41474895, 0.61531395, 1.09260032])"
      ]
     },
     "execution_count": 22,
     "metadata": {},
     "output_type": "execute_result"
    }
   ],
   "source": [
    "a = 1 # shape parameter\n",
    "b = 1 # scale parameter\n",
    "size = 3\n",
    "random.gamma(a, b, size)"
   ]
  },
  {
   "cell_type": "markdown",
   "id": "44f73cc7",
   "metadata": {},
   "source": [
    "For this distribution, the mean and variance are given by:\n",
    "\n",
    "mean: $ab$\n",
    "\n",
    "variance: $ab^2$"
   ]
  },
  {
   "cell_type": "markdown",
   "id": "1c3b4c0c",
   "metadata": {},
   "source": [
    "## 6.3 Simulating stochastic behavior"
   ]
  },
  {
   "cell_type": "markdown",
   "id": "e63e816d",
   "metadata": {},
   "source": [
    "In this chapter, the mathematical notion of stochastic distribution is used to describe how to model stochastic behavior.\n",
    "Simulating a model with stochastic behavior at a computer is however not stochastic at all. Computer systems are deterministic machines, and have no notion of varying results.\n",
    "\n",
    "A (pseudo-)random number generator is used to create stochastic results instead. It starts with an initial \\emph{seed}, an integer number (you can give one at the start of the simulation). From this seed, a function creates a stream of `random` values. When looking at the values there does not seem to be any pattern. It is not truly random however. Using the same seed again gives exactly the same stream of numbers. This is the reason to call the function a `pseudo`-random number generator (a true random number generator would never produce the exact same stream of numbers). A sample of a distribution uses one or more numbers from the stream to compute its value. The value of the initial seed thus decides the value of all samples drawn in the simulation.\n",
    "\n",
    "While doing a simulation study, performing several experiments with the same initial seed invalidates the results, as it is equivalent to copying the outcome of a single experiment a number of times. On the other hand, when looking for the cause of a bug in the model, performing the exact same experiment is useful as outcomes of previous experiments should match exactly."
   ]
  },
  {
   "cell_type": "markdown",
   "id": "046a37ed",
   "metadata": {},
   "source": [
    "#### Normal distribution"
   ]
  },
  {
   "cell_type": "markdown",
   "id": "2c362bf8",
   "metadata": {},
   "source": [
    "This generates a random float sampled from a univariate “normal” (Gaussian) distribution of mean 0 and variance 1."
   ]
  },
  {
   "cell_type": "code",
   "execution_count": null,
   "id": "c2ac1592",
   "metadata": {},
   "outputs": [],
   "source": [
    "random.randn()"
   ]
  },
  {
   "cell_type": "markdown",
   "id": "24629269",
   "metadata": {},
   "source": [
    "#### Uniform distribution"
   ]
  },
  {
   "cell_type": "markdown",
   "id": "cf3b4357",
   "metadata": {},
   "source": [
    "Samples are uniformly distributed over the half-open interval $[a, b)$. Note that this does not include b. In other words, any value within the given interval is equally likely to be drawn by uniform.\n",
    "\n",
    "The probability density function of the uniform distribution is\n",
    "\n",
    "$p(x) = \\frac{1}{b - a}$\n",
    "\n",
    "anywhere within the interval $[a, b)$, and zero elsewhere."
   ]
  },
  {
   "cell_type": "code",
   "execution_count": 50,
   "id": "3f93c26e",
   "metadata": {},
   "outputs": [
    {
     "data": {
      "text/plain": [
       "array([1.72217142, 1.82814654, 1.45450857])"
      ]
     },
     "execution_count": 50,
     "metadata": {},
     "output_type": "execute_result"
    }
   ],
   "source": [
    "a = 1 # lower bound \n",
    "b = 2 # upper bound\n",
    "size = 3\n",
    "random.uniform(a, b, size)"
   ]
  },
  {
   "cell_type": "markdown",
   "id": "ea4fc785",
   "metadata": {},
   "source": [
    "#### Exponential distribution"
   ]
  },
  {
   "cell_type": "markdown",
   "id": "5ccd6bce",
   "metadata": {},
   "source": [
    "Its probability density function is\n",
    "\n",
    "$f(x; \\frac{1}{\\beta}) = \\frac{1}{\\beta} \\exp(-\\frac{x}{\\beta})$,\n",
    "\n",
    "for x > 0 and 0 elsewhere. $\\beta$ is the scale parameter, which is the inverse of the rate parameter $\\lambda = 1/\\beta$. The rate parameter is an alternative, widely used parameterization of the exponential distribution."
   ]
  },
  {
   "cell_type": "code",
   "execution_count": null,
   "id": "330ba9b6",
   "metadata": {},
   "outputs": [],
   "source": [
    "scale = 0.5\n",
    "size = 3\n",
    "random.exponential(scale, size)"
   ]
  },
  {
   "cell_type": "markdown",
   "id": "ca376fd4",
   "metadata": {},
   "source": [
    "#### Poisson distribution"
   ]
  },
  {
   "cell_type": "markdown",
   "id": "71803705",
   "metadata": {},
   "source": [
    "The Poisson distribution is the limit of the binomial distribution for large N.\n",
    "\n",
    "The Poisson distribution\n",
    "\n",
    "$f(k; \\lambda)=\\frac{\\lambda^k e^{-\\lambda}}{k!}$\n",
    "\n",
    "For events with an expected separation $\\lambda$ the Poisson distribution $f(k; \\lambda)$ describes the probability of k events occurring within the observed interval $\\lambda$."
   ]
  },
  {
   "cell_type": "code",
   "execution_count": null,
   "id": "7f142dba",
   "metadata": {},
   "outputs": [],
   "source": [
    "a = 1 # expectation of the interval\n",
    "size = 3\n",
    "random.poisson(a, size)"
   ]
  },
  {
   "cell_type": "markdown",
   "id": "baafb488",
   "metadata": {},
   "source": [
    "## 6.4 Exercises"
   ]
  },
  {
   "cell_type": "markdown",
   "id": "4e1dc75b",
   "metadata": {},
   "source": [
    "### Exercise 1"
   ]
  },
  {
   "cell_type": "markdown",
   "id": "28ff8feb",
   "metadata": {},
   "source": [
    "Accoriding to the manual, for a gamma distribution with parameters `(a,b)`, the mean equals $ab$.\n",
    "\n",
    "(a) Verify if this is true for three different pairs of `a` and `b`.\n",
    "\n",
    "(b) How many samples from the distribution are approximately required to determine the mean up to three decimals accurate?"
   ]
  },
  {
   "cell_type": "code",
   "execution_count": null,
   "id": "c9671371",
   "metadata": {},
   "outputs": [],
   "source": [
    "''' This can be used to find the answers to exercise 1 '''\n",
    "..."
   ]
  },
  {
   "cell_type": "markdown",
   "id": "91da0004",
   "metadata": {},
   "source": [
    "### Exercise 2"
   ]
  },
  {
   "cell_type": "markdown",
   "id": "faf7bae0",
   "metadata": {},
   "source": [
    "Estimate the mean $\\mu$ and variance $\\sigma ^2$ of a triangular distribution triangle($1,2,5$) by simulating 1000 samples. (Recall that the variance $\\sigma ^2$ of $n$ samples $x_i$ can be calculated by: $\\sigma ^2=\\frac{1}{n-1}\\sum_{i=1}^{n} (x_{i}-\\overline{x})^2$.)"
   ]
  },
  {
   "cell_type": "code",
   "execution_count": null,
   "id": "f935da88",
   "metadata": {},
   "outputs": [],
   "source": [
    "''' This can be used to find the answers to exercise 2 '''\n",
    "..."
   ]
  },
  {
   "cell_type": "markdown",
   "id": "f29e7ffa",
   "metadata": {},
   "source": [
    "### Exercise 3"
   ]
  },
  {
   "cell_type": "markdown",
   "id": "385e4027",
   "metadata": {},
   "source": [
    "We would like to build a small game, called Higher or Lower. The computer picks a random integer number between 1 and 14. The\n",
    "player then has to predict whether the next number will be higher or lower. The computer picks the next random number and compares the new number with the previous one. If the player guesses right his score is doubled. If the player guesses wrong, he looses all and the game is over. Try the following specification."
   ]
  },
  {
   "cell_type": "code",
   "execution_count": 46,
   "id": "b28c33a6",
   "metadata": {},
   "outputs": [
    {
     "name": "stdout",
     "output_type": "stream",
     "text": [
      "Your score is:  1\n",
      "The computer drew:  5.531283998258651\n",
      "(h)igher or (l)ower: l\n",
      "The computer drew:  4.375459850388987\n",
      "Your score is:  2\n",
      "(h)igher or (l)ower: l\n",
      "The computer drew:  14.704549478463216\n",
      "Your score is:  0\n",
      "GAME OVER...\n"
     ]
    }
   ],
   "source": [
    "def HoL():\n",
    "    sc = 1\n",
    "    c = True\n",
    "    oldval = 0\n",
    "    \n",
    "    new = random.uniform(1, 15)\n",
    "    print(\"Your score is: \", sc)\n",
    "    print(\"The computer drew: \", new)\n",
    "    \n",
    "    while c:\n",
    "        s = input('(h)igher or (l)ower: ')\n",
    "        oldval = new\n",
    "        new = random.uniform(1, 15)\n",
    "        print(\"The computer drew: \", new)\n",
    "        if new == oldval:\n",
    "            c = False\n",
    "        else:\n",
    "            c = (new > oldval) == (s == \"h\")\n",
    "        if c:\n",
    "            sc = 2*sc\n",
    "        else:\n",
    "            sc = 0\n",
    "        print(\"Your score is: \", sc)\n",
    "    \n",
    "    print(\"GAME OVER...\")\n",
    "        \n",
    "HoL()"
   ]
  },
  {
   "cell_type": "markdown",
   "id": "6d711e06",
   "metadata": {},
   "source": [
    "(a) What is the begin score?\n",
    "\n",
    "(b) What is the maximum end score?\n",
    "\n",
    "(c) What happens, when the drawn sample is equal to the previous drawn sample?\n",
    "\n",
    "(d) Extend this game specification with the possibility to stop."
   ]
  },
  {
   "cell_type": "code",
   "execution_count": null,
   "id": "a6bf5a3f",
   "metadata": {},
   "outputs": [],
   "source": [
    "''' This can be used to find the answers to exercise 3 d '''\n",
    "def HoL():\n",
    "    sc = 1\n",
    "    c = True\n",
    "    oldval = 0\n",
    "    \n",
    "    new = random.uniform(1, 15)\n",
    "    print(\"Your score is: \", sc)\n",
    "    print(\"The computer drew: \", new)\n",
    "    \n",
    "    while c:\n",
    "        s = input('(h)igher or (l)ower: ')\n",
    "        oldval = new\n",
    "        new = random.uniform(1, 15)\n",
    "        print(\"The computer drew: \", new)\n",
    "        if new == oldval:\n",
    "            c = False\n",
    "        else:\n",
    "            c = (new > oldval) == (s == \"h\")\n",
    "        if c:\n",
    "            sc = 2*sc\n",
    "        else:\n",
    "            sc = 0\n",
    "        print(\"Your score is: \", sc)\n",
    "    \n",
    "    print(\"GAME OVER...\")\n",
    "        \n",
    "HoL()"
   ]
  },
  {
   "cell_type": "markdown",
   "id": "ca04ed0f",
   "metadata": {},
   "source": [
    "## 6.5 Answers to exercises"
   ]
  },
  {
   "cell_type": "markdown",
   "id": "c38c451f",
   "metadata": {},
   "source": [
    "### Exercise 1"
   ]
  },
  {
   "cell_type": "markdown",
   "id": "bda1cd63",
   "metadata": {},
   "source": [
    "(a) the mean produced is close to $ab$\n",
    "\n",
    "(b) -"
   ]
  },
  {
   "cell_type": "code",
   "execution_count": 37,
   "id": "46b2394b",
   "metadata": {},
   "outputs": [
    {
     "name": "stdout",
     "output_type": "stream",
     "text": [
      "The mean is:  1.999849982837349\n"
     ]
    }
   ],
   "source": [
    "def model(a, b, N):\n",
    "    sum = 0.0\n",
    "    for i in range(1,N+1):\n",
    "        u = random.gamma(a,b)\n",
    "        sum = sum + u\n",
    "    print(\"The mean is: \", sum/N)\n",
    "model(1,2,1000000)"
   ]
  },
  {
   "cell_type": "markdown",
   "id": "3f89a4db",
   "metadata": {},
   "source": [
    "### Exercise 2"
   ]
  },
  {
   "cell_type": "code",
   "execution_count": 40,
   "id": "96a79589",
   "metadata": {},
   "outputs": [
    {
     "name": "stdout",
     "output_type": "stream",
     "text": [
      "The mean is:  2.68133042190649\n",
      "The variance is:  0.7410940002927793\n"
     ]
    }
   ],
   "source": [
    "def model():\n",
    "    mean  = 0.0\n",
    "    variance = 0.0\n",
    "    for i in range (1,1001):\n",
    "        u = random.triangular(1,2,5)\n",
    "        mean = (mean * (i-1) + u) / i;\n",
    "        if i != 1:\n",
    "            variance = ((i-2) * variance + (u - mean)**2) / (i-1)\n",
    "        else:\n",
    "            variance = 0.0\n",
    "    print(\"The mean is: \", mean)\n",
    "    print(\"The variance is: \", variance)\n",
    "model()"
   ]
  },
  {
   "cell_type": "markdown",
   "id": "9080723c",
   "metadata": {},
   "source": [
    "### Exercise 3"
   ]
  },
  {
   "cell_type": "markdown",
   "id": "98f298fd",
   "metadata": {},
   "source": [
    "(a) Initially, the score is 1 as can be seen from the initial value assigned to the variable `sc`.\n",
    "\n",
    "(b) There is (in principal) no maximum end score, although the range of integers will be limited and therefore and error may be generated.\n",
    "\n",
    "(c) In that case the game stops\n",
    "\n",
    "(d)"
   ]
  },
  {
   "cell_type": "code",
   "execution_count": 47,
   "id": "a80c5b3d",
   "metadata": {},
   "outputs": [
    {
     "name": "stdout",
     "output_type": "stream",
     "text": [
      "Your score is:  1\n",
      "The computer drew:  13.41741197591782\n",
      "(h)igher or (l)ower?l\n",
      "The computer drew:  8.532723140776056\n",
      "Your score is:  2\n",
      "Do you want to (s)top, or (c)ontinue?s\n",
      "GAME OVER...\n"
     ]
    }
   ],
   "source": [
    "def HoL():\n",
    "    sc = 1\n",
    "    c = True\n",
    "    d = True\n",
    "    oldval = 0\n",
    "    \n",
    "    new = random.uniform(1, 15)\n",
    "    print(\"Your score is: \", sc)\n",
    "    print(\"The computer drew: \", new)\n",
    "    \n",
    "    while c and d:\n",
    "        s = input('(h)igher or (l)ower?')\n",
    "        oldval = new\n",
    "        new = random.uniform(1, 15)\n",
    "        print(\"The computer drew: \", new)\n",
    "        if new == oldval:\n",
    "            c = False\n",
    "        else:\n",
    "            c = (new > oldval) == (s == \"h\")\n",
    "        if c:\n",
    "            sc = 2*sc\n",
    "        else:\n",
    "            sc = 0\n",
    "        print(\"Your score is: \", sc)\n",
    "        if c:\n",
    "            s = input('Do you want to (s)top, or (c)ontinue?')\n",
    "            d = s == \"c\"\n",
    "    \n",
    "    print(\"GAME OVER...\")\n",
    "        \n",
    "HoL()"
   ]
  }
 ],
 "metadata": {
  "kernelspec": {
   "display_name": "Python 3 (ipykernel)",
   "language": "python",
   "name": "python3"
  },
  "language_info": {
   "codemirror_mode": {
    "name": "ipython",
    "version": 3
   },
   "file_extension": ".py",
   "mimetype": "text/x-python",
   "name": "python",
   "nbconvert_exporter": "python",
   "pygments_lexer": "ipython3",
   "version": "3.8.10"
  }
 },
 "nbformat": 4,
 "nbformat_minor": 5
}