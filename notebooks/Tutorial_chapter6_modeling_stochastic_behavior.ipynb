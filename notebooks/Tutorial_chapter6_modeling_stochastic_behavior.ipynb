{
 "cells": [
  {
   "cell_type": "markdown",
   "id": "5957a3d8",
   "metadata": {},
   "source": [
    "# 6 Modeling stochastic behavior"
   ]
  },
  {
   "cell_type": "markdown",
   "id": "5b6ca483",
   "metadata": {},
   "source": [
    "Dit hoofdstuk komt grotendeels overeen met het chi dictaat.\n",
    "\n",
    "Het grootste verschil is dat je in chi distributies definieert en daar een sample van neemt.\n",
    "In python gebruiken wij de numpy.random module, zie https://numpy.org/doc/1.16/reference/routines.random.html (te vinden in onze tool in de module `random`) "
   ]
  },
  {
   "cell_type": "markdown",
   "id": "1b8f33de",
   "metadata": {},
   "source": [
    "## 6.1 Lambda functions"
   ]
  },
  {
   "cell_type": "markdown",
   "id": "dbc1c8b7",
   "metadata": {},
   "source": [
    "Leg eerst in het kort lambda functies uit (zie https://realpython.com/python-lambda/). Dit hoeft niet heel uitgebreidt."
   ]
  },
  {
   "cell_type": "markdown",
   "id": "d2780a61",
   "metadata": {},
   "source": [
    "## 6.2 Distributions"
   ]
  },
  {
   "cell_type": "markdown",
   "id": "533d6e6d",
   "metadata": {},
   "source": [
    "Verwijs naar https://numpy.org/doc/1.16/reference/routines.random.html voor alle mogelijke distributies"
   ]
  },
  {
   "cell_type": "markdown",
   "id": "5006dc1a",
   "metadata": {},
   "source": [
    "### 6.2.1 Constant distributions"
   ]
  },
  {
   "cell_type": "markdown",
   "id": "7707c1fb",
   "metadata": {},
   "source": []
  },
  {
   "cell_type": "markdown",
   "id": "f1519e53",
   "metadata": {},
   "source": [
    "### 6.2.2 Discrete distributions"
   ]
  },
  {
   "cell_type": "markdown",
   "id": "df6874fd",
   "metadata": {},
   "source": [
    "discrete uniform (`random.randint()`), bernoulli, Random choice (`random.choice()`)"
   ]
  },
  {
   "cell_type": "markdown",
   "id": "31fd1053",
   "metadata": {},
   "source": [
    "### 6.2.3 Continuous distributions"
   ]
  },
  {
   "cell_type": "markdown",
   "id": "ecd5561d",
   "metadata": {},
   "source": []
  },
  {
   "cell_type": "markdown",
   "id": "1c3b4c0c",
   "metadata": {},
   "source": [
    "## 6.3 Simulating stochastic behavior"
   ]
  },
  {
   "cell_type": "markdown",
   "id": "e63e816d",
   "metadata": {},
   "source": [
    "normal (`random.randn()`), uniform, exponential, gamma, poisson"
   ]
  },
  {
   "cell_type": "markdown",
   "id": "baafb488",
   "metadata": {},
   "source": [
    "## 6.4 Exercises"
   ]
  },
  {
   "cell_type": "markdown",
   "id": "4e1dc75b",
   "metadata": {},
   "source": []
  },
  {
   "cell_type": "markdown",
   "id": "ca04ed0f",
   "metadata": {},
   "source": [
    "## 6.5 Answers to exercises"
   ]
  },
  {
   "cell_type": "markdown",
   "id": "bda1cd63",
   "metadata": {},
   "source": []
  }
 ],
 "metadata": {
  "kernelspec": {
   "display_name": "Python 3 (ipykernel)",
   "language": "python",
   "name": "python3"
  },
  "language_info": {
   "codemirror_mode": {
    "name": "ipython",
    "version": 3
   },
   "file_extension": ".py",
   "mimetype": "text/x-python",
   "name": "python",
   "nbconvert_exporter": "python",
   "pygments_lexer": "ipython3",
   "version": "3.8.10"
  }
 },
 "nbformat": 4,
 "nbformat_minor": 5
}
