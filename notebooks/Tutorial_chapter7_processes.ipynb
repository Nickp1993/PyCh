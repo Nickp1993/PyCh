{
 "cells": [
  {
   "cell_type": "markdown",
   "id": "b6d9d0df",
   "metadata": {},
   "source": [
    "To use the examples in this chapter, first run the code below to import the PyCh Library."
   ]
  },
  {
   "cell_type": "code",
   "execution_count": 1,
   "id": "de2a8047",
   "metadata": {},
   "outputs": [
    {
     "name": "stdout",
     "output_type": "stream",
     "text": [
      "PyCh version 0.1 imported succesfully.\n",
      " \n"
     ]
    }
   ],
   "source": [
    "from PyCh import *"
   ]
  },
  {
   "cell_type": "markdown",
   "id": "91ac5960",
   "metadata": {},
   "source": [
    "# 7 Processes"
   ]
  },
  {
   "cell_type": "markdown",
   "id": "3ea3d25b",
   "metadata": {},
   "source": [
    "Pych has been designed for modeling and analyzing systems with many components, all working together to obtain the total system behavior. Each component exhibits behavior over time. Sometimes they are busy making internal decisions, sometimes they interact with other components. The language uses a process to model the behavior of a component (the primary interest are the actions of the component rather than its physical representation). This leads to models with many processes working in parallel (also known as concurrent processes), interacting with each other.\n",
    "\n",
    "Another characteristic of these systems is that the parallelism happens at different scales at the same time, and each scale can be considered to be a collection of co-operating parallel working processes.For example, a factory can be seen as a single component, it accepts supplies and delivers products. However, within a factory, you can have several parallel operating production lines, and a line consists of several parallel operating machines. A machine again consists of parallel operating parts. In the other direction, a factory is a small element in a supply chain. Each supply chain is an element in a (distribution) network. Depending on the area that needs to be analyzed, and the level of detail, some scales are precisely modeled, while others either fall outside the scope of the system or are modeled in an abstract way.\n",
    "\n",
    "In all these systems, the interaction between processes is not random, they understand each other and exchange information. In other words, they communicate with each other. Pych uses channels to model the communication. A channel connects a sending process to a receiving process, allowing the sender to pass messages to the receiver. This chapter discusses parallel operating processes only, communication between processes using channels is discussed in Chapter 8.\n",
    "\n",
    "As discussed above, a process can be seen as a single component with behavior over time, or as a wrapper around many processes that work at a smaller scale. Pych supports both kinds of processes."
   ]
  },
  {
   "cell_type": "markdown",
   "id": "be0ac4dd",
   "metadata": {},
   "source": [
    "## 7.1 A single process\n",
    "\n",
    "In Pych processes are defined using process functions,\n",
    "which are denoted by the decorator `@process` above the function definition.\n",
    "The first argument of a process function is always the simulation environment in which the process lives. \n",
    "\n",
    "A Pych process can generate events and can `yield` these events. A process must always yield at least one event.\n",
    "The `yield` statement indicates that the process is suspended till the event has been triggered, after which the process continues.\n",
    "\n",
    "### 7.1.1 The timeout event\n",
    "An example of such an event is the `environment.timeout(t)` event. This event denotes a timeout of `t` in the environment's simulation time (not real-time!)\n",
    "\n",
    "An example of a process with the timeout event is shown in the example below.\n",
    "The process `P` has as only argument `env`, which is its simulation environment.\n",
    "Process `P` contains two statements.\n",
    "The first is `yield env.timeout(1)`, which indicates that the process waits for one second in simulation time,\n",
    " after which it continues.\n",
    "The second statement is the `print` statement which is used to output text on the screen.\n",
    "\n",
    "Below the process definition our model is defined. In this model we define simulation environment `env`,\n",
    "and process `P1`. The environment is simulated using `env.run()`.\n",
    "The model is executed by calling `model()`."
   ]
  },
  {
   "cell_type": "code",
   "execution_count": 2,
   "id": "e2b733f9",
   "metadata": {},
   "outputs": [
    {
     "name": "stdout",
     "output_type": "stream",
     "text": [
      "Hello. I am process.\n"
     ]
    }
   ],
   "source": [
    "@process\n",
    "def P(env):\n",
    "    yield env.timeout(1)\n",
    "    print(\"Hello. I am process.\")\n",
    "\n",
    "def model():\n",
    "    env = Environment()\n",
    "    P1 = P(env)\n",
    "    env.run()\n",
    "    \n",
    "model()"
   ]
  },
  {
   "cell_type": "markdown",
   "id": "e99ada0b",
   "metadata": {
    "pycharm": {
     "name": "#%% md\n"
    }
   },
   "source": [
    "--- \n",
    "In the example above, the timeout event is defined on the same line as it is yielded. However, these two steps can be\n",
    "separated. If done so, the clock of the timeout event starts ticking as soon as it is generated.\n",
    "The `yield` statement only indicates that the process waits till the event has been triggered. If the event had already started earlier, or has already been triggered, then the process does not wait the entire timeout duration.\n",
    "In the example below we can see how this works in practice. We use the `environment.now` function (`env.now` in the example) to show what the current simulation time is. \n",
    "\n",
    "As you can see in the example, the clock of the timeout event starts ticking when the event is defined. When Process `P` encounters the first yield statement it is suspended till the timeout event `delay1` is triggered at `t=0.5`, then it is suspended again till `delay2` is triggered at `t=1.0` (so not at `t=1.5`!). Finally, at the third yield statement, process `P` does not suspend, instead it continues right away, because event `delay3` had already been triggered in the past.\n"
   ]
  },
  {
   "cell_type": "code",
   "execution_count": 1,
   "id": "8c6cb1c8",
   "metadata": {
    "pycharm": {
     "name": "#%%\n"
    }
   },
   "outputs": [
    {
     "ename": "NameError",
     "evalue": "name 'process' is not defined",
     "output_type": "error",
     "traceback": [
      "\u001B[1;31m---------------------------------------------------------------------------\u001B[0m",
      "\u001B[1;31mNameError\u001B[0m                                 Traceback (most recent call last)",
      "\u001B[1;32m~\\AppData\\Local\\Temp/ipykernel_9680/630894963.py\u001B[0m in \u001B[0;36m<module>\u001B[1;34m\u001B[0m\n\u001B[1;32m----> 1\u001B[1;33m \u001B[1;33m@\u001B[0m\u001B[0mprocess\u001B[0m\u001B[1;33m\u001B[0m\u001B[1;33m\u001B[0m\u001B[0m\n\u001B[0m\u001B[0;32m      2\u001B[0m \u001B[1;32mdef\u001B[0m \u001B[0mP\u001B[0m\u001B[1;33m(\u001B[0m\u001B[0menv\u001B[0m\u001B[1;33m)\u001B[0m\u001B[1;33m:\u001B[0m\u001B[1;33m\u001B[0m\u001B[1;33m\u001B[0m\u001B[0m\n\u001B[0;32m      3\u001B[0m     \u001B[0mdelay1\u001B[0m \u001B[1;33m=\u001B[0m \u001B[0menv\u001B[0m\u001B[1;33m.\u001B[0m\u001B[0mtimeout\u001B[0m\u001B[1;33m(\u001B[0m\u001B[1;36m0.5\u001B[0m\u001B[1;33m)\u001B[0m\u001B[1;33m\u001B[0m\u001B[1;33m\u001B[0m\u001B[0m\n\u001B[0;32m      4\u001B[0m     \u001B[0mdelay2\u001B[0m \u001B[1;33m=\u001B[0m \u001B[0menv\u001B[0m\u001B[1;33m.\u001B[0m\u001B[0mtimeout\u001B[0m\u001B[1;33m(\u001B[0m\u001B[1;36m1\u001B[0m\u001B[1;33m)\u001B[0m\u001B[1;33m\u001B[0m\u001B[1;33m\u001B[0m\u001B[0m\n\u001B[0;32m      5\u001B[0m     \u001B[0mdelay3\u001B[0m \u001B[1;33m=\u001B[0m \u001B[0menv\u001B[0m\u001B[1;33m.\u001B[0m\u001B[0mtimeout\u001B[0m\u001B[1;33m(\u001B[0m\u001B[1;36m0.5\u001B[0m\u001B[1;33m)\u001B[0m\u001B[1;33m\u001B[0m\u001B[1;33m\u001B[0m\u001B[0m\n",
      "\u001B[1;31mNameError\u001B[0m: name 'process' is not defined"
     ]
    }
   ],
   "source": [
    "@process\n",
    "def P(env):\n",
    "    delay1 = env.timeout(0.5)\n",
    "    delay2 = env.timeout(1)\n",
    "    delay3 = env.timeout(0.5)\n",
    "    yield delay1\n",
    "    print(\"The first timeout event was triggered at time %.1f\" % (env.now))\n",
    "    yield delay2\n",
    "    print(\"The second timeout event was triggered at time %.1f\" % (env.now))\n",
    "    yield delay3\n",
    "    print(\"The third timeout event had already been triggered, so the process continues right away at time %.1f\" % (env.now))\n",
    "\n",
    "def model():\n",
    "    env = Environment()\n",
    "    P1 = P(env)\n",
    "    env.run()\n",
    "\n",
    "model()\n"
   ]
  },
  {
   "cell_type": "markdown",
   "id": "af7b2c66",
   "metadata": {},
   "source": [
    "---\n",
    "The model environment can contain multiple instances created using the same process definition. When simulating the environment using `env.run()`, the simulation continues until all processes are finished executing. To demonstrate, below is an example of a model with two processes `P1` and `P2`."
   ]
  },
  {
   "cell_type": "code",
   "execution_count": 3,
   "id": "d5fed21c",
   "metadata": {},
   "outputs": [
    {
     "name": "stdout",
     "output_type": "stream",
     "text": [
      "I am process 1\n",
      "I am process 2\n"
     ]
    }
   ],
   "source": [
    "@process\n",
    "def P(env, i):\n",
    "    yield env.timeout(1)\n",
    "    print(\"I am process %d\" % i)\n",
    "\n",
    "def model():\n",
    "    env = Environment()\n",
    "    P1 = P(env, 1)\n",
    "    P2 = P(env, 2)\n",
    "    env.run()\n",
    "    \n",
    "model()"
   ]
  },
  {
   "cell_type": "markdown",
   "id": "886e6468",
   "metadata": {},
   "source": [
    "## 7.2 Process in process\n",
    "\n",
    "A process can create other processes, and it can even wait until another process has finished through the `yield` statement (although it can also continue unhalted). In the example below process `P` creates processes P1 and P2, and waits till they are finished to continue. The concept of 'a process in a process' is very useful in keeping the model structured."
   ]
  },
  {
   "cell_type": "code",
   "execution_count": 7,
   "id": "f085c097",
   "metadata": {
    "scrolled": true
   },
   "outputs": [
    {
     "name": "stdout",
     "output_type": "stream",
     "text": [
      "Start process 1\n",
      "Finished process 1\n",
      "Start process 2\n",
      "Finished process 2\n"
     ]
    }
   ],
   "source": [
    "@process\n",
    "def P_a(env):\n",
    "    print(\"Start process 1\")\n",
    "    P1 = P_b(env, 1)\n",
    "    yield P1\n",
    "    print(\"Start process 2\")\n",
    "    P2 = P_b(env, 2)\n",
    "    yield P2\n",
    "    \n",
    "@process\n",
    "def P_b(env, i):\n",
    "    yield env.timeout(1)\n",
    "    print(\"Finished process %d\" % i)\n",
    "    \n",
    "def model():\n",
    "    env = Environment()\n",
    "    P = P_a(env)\n",
    "    env.run()\n",
    "    \n",
    "model()"
   ]
  },
  {
   "cell_type": "markdown",
   "id": "87e70536",
   "metadata": {},
   "source": [
    "---\n",
    "Just like the timeout event, a process starts running when it is defined, not when we yield it. Suppose we redefine `P_a` as seen below. If we run our model again, we can see that the order of execution is changed. "
   ]
  },
  {
   "cell_type": "code",
   "execution_count": 8,
   "id": "6b899744",
   "metadata": {},
   "outputs": [
    {
     "name": "stdout",
     "output_type": "stream",
     "text": [
      "Start process 1\n",
      "Finished process 1\n",
      "Finished process 2\n",
      "Start process 2\n"
     ]
    }
   ],
   "source": [
    "@process\n",
    "def P_a(env):\n",
    "    print(\"Start process 1\")\n",
    "    P1 = P_b(env, 1)\n",
    "    P2 = P_b(env, 2)\n",
    "    yield P1\n",
    "    print(\"Start process 2\")\n",
    "    yield P2\n",
    "    \n",
    "model()"
   ]
  },
  {
   "cell_type": "markdown",
   "id": "a2206c18",
   "metadata": {},
   "source": [
    "## 7.3 Many processes\n",
    "Some models consist of many similar processes. In Python we can utilize list comprehension to quickly create many processes. Below is an example of using list comprehension to create 10 instances of `P` at once."
   ]
  },
  {
   "cell_type": "code",
   "execution_count": 9,
   "id": "366adfc0",
   "metadata": {},
   "outputs": [
    {
     "name": "stdout",
     "output_type": "stream",
     "text": [
      "I am process 0\n",
      "I am process 1\n",
      "I am process 2\n",
      "I am process 3\n",
      "I am process 4\n",
      "I am process 5\n",
      "I am process 6\n",
      "I am process 7\n",
      "I am process 8\n",
      "I am process 9\n"
     ]
    }
   ],
   "source": [
    "@process\n",
    "def P(env, i):\n",
    "    yield env.timeout(1)\n",
    "    print(\"I am process %d\" % i)\n",
    "\n",
    "def model():\n",
    "    env = Environment()\n",
    "    Processes = [P(env, i) for i in range(10)]\n",
    "    env.run()\n",
    "    \n",
    "model()"
   ]
  },
  {
   "cell_type": "markdown",
   "id": "fc70774d",
   "metadata": {},
   "source": [
    "## 7.4 Summary\n",
    "- A process represents the behavior of a component in the simulation environment. An environment can have multiple processes running in parallel.\n",
    "- The simulation environment is defined using `env = Environment()`. \n",
    "    - The simulation environment can be run until all of its processes have finished executing using `env.run()`, \n",
    "    - The simulation environment can be run until simulation time `t` using `env.run(until=t)`\n",
    "    - The simulation environment can be run until one of its processes has finished executing using `env.run(until=t)`\n",
    "    - The current simulation time can be accessed using `env.now`.\n",
    "- A process function specified with the `@process` decorator above it, and it is defined using `def P(env, ...)` with the simulation environment as its first argument.\n",
    "    - A process can be instantiated by calling the process function, e.g. `P1 = P(env, ...)`.\n",
    "    - Multiple processes can be instantiated from the same process function, e.g. `P1 = P(env, 1)` and `P2 = P(env, 2)`.\n",
    "    - Many similar processes can be instantiated using list comprehension, e.g. `Processes = [P(env, i) for i in range(10)]`\n",
    "    - A process can instantiate other processes.\n",
    "- A process can create and `yield` events through its lifetime.\n",
    "    - One type of event is the timeout event `timeout_event = env.timeout(t)`, which is an event that is triggered after `t` simulation time. \n",
    "    - Other events are communication events, which are explained in the next chapter.\n",
    "    - A process can yield these events through `yield Event`, which means that the process will be suspended until the event has been triggered, after which the process continues.\n",
    "    - A process can yield other processes through `yield Process`, which means that the process will be suspended until the other process has finished executing.\n"
   ]
  },
  {
   "cell_type": "markdown",
   "id": "3ec5b59c",
   "metadata": {},
   "source": [
    "## Appendix 7A: process execution order\n",
    "\n",
    "Processes can be running parallel at the same time. If multiple processes generate an event simultaneously, the event which was scheduled first goes first (the event is scheduled as soon as the process reaches the `yield` statement). In the below example, the events are scheduled simultaneously, in which case the event of the process which was defined first (process `P1`) is executed first."
   ]
  },
  {
   "cell_type": "code",
   "execution_count": 7,
   "id": "fc1664c5",
   "metadata": {},
   "outputs": [
    {
     "name": "stdout",
     "output_type": "stream",
     "text": [
      "Process 1 is finished at time 1.0\n",
      "Process 2 is finished at time 1.0\n"
     ]
    }
   ],
   "source": [
    "@process\n",
    "def P(env, i):\n",
    "    yield env.timeout(1)\n",
    "    print(\"Process %d is finished at time %.1f\" % (i, env.now))\n",
    "\n",
    "def model():\n",
    "    env = Environment()\n",
    "    P1 = P(env, 1)\n",
    "    P2 = P(env, 2)\n",
    "    env.run()\n",
    "    \n",
    "model()"
   ]
  },
  {
   "cell_type": "markdown",
   "id": "88d5fb74",
   "metadata": {},
   "source": [
    "---\n",
    "Below we have an example in which the events are not generated simultaneously. In the example, we expect process `P2` to be finished first, as its event is scheduled before the second event of process `P1`."
   ]
  },
  {
   "cell_type": "code",
   "execution_count": 8,
   "id": "2fba0a2a",
   "metadata": {},
   "outputs": [
    {
     "name": "stdout",
     "output_type": "stream",
     "text": [
      "Process 1 is halfway done at time 0.5\n",
      "Process 2 is finished at time 1.0\n",
      "Process 1 is finished at time 1.0\n"
     ]
    }
   ],
   "source": [
    "@process\n",
    "def P_a(env, i):\n",
    "    yield env.timeout(0.5)\n",
    "    print(\"Process %d is halfway done at time %.1f\" % (i, env.now))\n",
    "    yield env.timeout(0.5)\n",
    "    print(\"Process %d is finished at time %.1f\" % (i, env.now))\n",
    "\n",
    "@process\n",
    "def P_b(env, i):\n",
    "    yield env.timeout(1)\n",
    "    print(\"Process %d is finished at time %.1f\" % (i, env.now))\n",
    "\n",
    "def model():\n",
    "    env = Environment()\n",
    "    P1 = P_a(env, 1)\n",
    "    P2 = P_b(env, 2)\n",
    "    env.run()\n",
    "    \n",
    "model()"
   ]
  }
 ],
 "metadata": {
  "kernelspec": {
   "display_name": "Python 3 (ipykernel)",
   "language": "python",
   "name": "python3"
  },
  "language_info": {
   "codemirror_mode": {
    "name": "ipython",
    "version": 3
   },
   "file_extension": ".py",
   "mimetype": "text/x-python",
   "name": "python",
   "nbconvert_exporter": "python",
   "pygments_lexer": "ipython3",
   "version": "3.8.10"
  }
 },
 "nbformat": 4,
 "nbformat_minor": 5
}