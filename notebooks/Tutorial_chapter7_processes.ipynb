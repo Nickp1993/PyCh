{
 "cells": [
  {
   "cell_type": "markdown",
   "id": "b6d9d0df",
   "metadata": {},
   "source": [
    "To use the examples in this chapter, first run the code below to import the PyCh Library."
   ]
  },
  {
   "cell_type": "code",
   "execution_count": 1,
   "id": "de2a8047",
   "metadata": {},
   "outputs": [
    {
     "name": "stdout",
     "output_type": "stream",
     "text": [
      "PyCh version 0.1 imported succesfully.\n",
      " \n"
     ]
    }
   ],
   "source": [
    "from PyCh import *"
   ]
  },
  {
   "cell_type": "markdown",
   "id": "91ac5960",
   "metadata": {},
   "source": [
    "# 7 Processes"
   ]
  },
  {
   "cell_type": "markdown",
   "id": "3ea3d25b",
   "metadata": {},
   "source": [
    "Pych has been designed for modeling and analyzing systems with many components, all working together to obtain the total system behavior. Each component exhibits behavior over time. Sometimes they are busy making internal decisions, sometimes they interact with other components. The language uses a process to model the behavior of a component (the primary interest are the actions of the component rather than its physical representation). This leads to models with many processes working in parallel (also known as concurrent processes), interacting with each other.\n",
    "\n",
    "Another characteristic of these systems is that the parallelism happens at different scales at the same time, and each scale can be considered to be a collection of co-operating parallel working processes.For example, a factory can be seen as a single component, it accepts supplies and delivers products. However, within a factory, you can have several parallel operating production lines, and a line consists of several parallel operating machines. A machine again consists of parallel operating parts. In the other direction, a factory is a small element in a supply chain. Each supply chain is an element in a (distribution) network. Depending on the area that needs to be analyzed, and the level of detail, some scales are precisely modeled, while others either fall outside the scope of the system or are modeled in an abstract way.\n",
    "\n",
    "In all these systems, the interaction between processes is not random, they understand each other and exchange information. In other words, they communicate with each other. Pych uses channels to model the communication. A channel connects a sending process to a receiving process, allowing the sender to pass messages to the receiver. This chapter discusses parallel operating processes only, communication between processes using channels is discussed in Chapter 8.\n",
    "\n",
    "As discussed above, a process can be seen as a single component with behavior over time, or as a wrapper around many processes that work at a smaller scale. Pych supports both kinds of processes. The former is modeled with the statements explained in previous chapters and communication that will be explained in the next chapter. The latter (a process as a wrapper around many smaller-scale processes) is supported with the `run` statement."
   ]
  },
  {
   "cell_type": "markdown",
   "id": "be0ac4dd",
   "metadata": {},
   "source": [
    "## 7.1 A single process\n",
    "The simplest form of processes is a model with one process, as seen in the example below.\n",
    "\n",
    "A process definition is denoted by the decorator `@process` above the function definition. The process `P` has as only argument `env`, which is the simulation environment in which the process lives. The environment must always be included as the first argument of a process.\n",
    "\n",
    "Process `P` contains two statements, the first is `yield`, which denotes that the process generates an event and waits till it has been executed. In this instance, the event `env.timeout(1)` denotes a timeout of one second in simulation time, but more on that later. A process must always yield at least one event. The second statement is the `print` statement to output text on the screen.\n",
    "\n",
    "Our model has simulation environment `env`, and contains one process `P1`. The environment is simulated using `env.run()`. The model is executed by calling `model()`."
   ]
  },
  {
   "cell_type": "code",
   "execution_count": 2,
   "id": "e2b733f9",
   "metadata": {},
   "outputs": [
    {
     "name": "stdout",
     "output_type": "stream",
     "text": [
      "Hello. I am process.\n"
     ]
    }
   ],
   "source": [
    "@process\n",
    "def P(env):\n",
    "    yield env.timeout(1)\n",
    "    print(\"Hello. I am process.\")\n",
    "\n",
    "def model():\n",
    "    env = Environment()\n",
    "    P1 = P(env)\n",
    "    env.run()\n",
    "    \n",
    "model()"
   ]
  },
  {
   "cell_type": "markdown",
   "id": "af7b2c66",
   "metadata": {},
   "source": [
    "---\n",
    "The model environment can contain multiple instances created using the same process definition. When simulating the environment using `env.run()`, the simulation continues until all processes are finished executing. To demonstrate, below is an example of a model with two processes `P1` and `P2`."
   ]
  },
  {
   "cell_type": "code",
   "execution_count": 3,
   "id": "d5fed21c",
   "metadata": {},
   "outputs": [
    {
     "name": "stdout",
     "output_type": "stream",
     "text": [
      "I am process 1\n",
      "I am process 2\n"
     ]
    }
   ],
   "source": [
    "@process\n",
    "def P(env, i):\n",
    "    yield env.timeout(1)\n",
    "    print(\"I am process %d\" % i)\n",
    "\n",
    "def model():\n",
    "    env = Environment()\n",
    "    P1 = P(env, 1)\n",
    "    P2 = P(env, 2)\n",
    "    env.run()\n",
    "    \n",
    "model()"
   ]
  },
  {
   "cell_type": "markdown",
   "id": "886e6468",
   "metadata": {},
   "source": [
    "## 7.2 Process in process\n",
    "\n",
    "A process can create other processes, and it can even wait until another process has finished through the `yield` statement (although it can also continue unhalted). In the example below process `P` creates processes P1 and P2, and waits till they are finished to continue. The concept of 'a process in a process' is very useful in keeping the model structured."
   ]
  },
  {
   "cell_type": "code",
   "execution_count": 4,
   "id": "f085c097",
   "metadata": {
    "scrolled": true
   },
   "outputs": [
    {
     "name": "stdout",
     "output_type": "stream",
     "text": [
      "Start process 1\n",
      "Finished process 1\n",
      "Start process 2\n",
      "Finished process 2\n"
     ]
    }
   ],
   "source": [
    "@process\n",
    "def P_a(env):\n",
    "    print(\"Start process 1\")\n",
    "    P1 = P_b(env, 1)\n",
    "    yield P1\n",
    "    print(\"Start process 2\")\n",
    "    P2 = P_b(env, 2)\n",
    "    yield P2\n",
    "    \n",
    "@process\n",
    "def P_b(env, i):\n",
    "    yield env.timeout(1)\n",
    "    print(\"Finished process %d\" % i)\n",
    "    \n",
    "def model():\n",
    "    env = Environment()\n",
    "    P = P_a(env)\n",
    "    env.run()\n",
    "    \n",
    "model()"
   ]
  },
  {
   "cell_type": "markdown",
   "id": "87e70536",
   "metadata": {},
   "source": [
    "---\n",
    "Unlike the timeout event, a process starts running when it is defined, not when we yield it. Suppose we redefine `P_a` as seen below. If we run our model again, we can see that the order of execution is changed. "
   ]
  },
  {
   "cell_type": "code",
   "execution_count": 5,
   "id": "6b899744",
   "metadata": {},
   "outputs": [
    {
     "name": "stdout",
     "output_type": "stream",
     "text": [
      "Start process 1\n",
      "Finished process 1\n",
      "Finished process 2\n",
      "Start process 2\n"
     ]
    }
   ],
   "source": [
    "@process\n",
    "def P_a(env):\n",
    "    print(\"Start process 1\")\n",
    "    P1 = P_b(env, 1)\n",
    "    P2 = P_b(env, 2)\n",
    "    yield P1\n",
    "    print(\"Start process 2\")\n",
    "    yield P2\n",
    "    \n",
    "model()"
   ]
  },
  {
   "cell_type": "markdown",
   "id": "a2206c18",
   "metadata": {},
   "source": [
    "## 7.3 Many processes\n",
    "Some models consist of many similar processes. In Python we can utilize list comprehension to quickly create many processes. Below is an example of using list comprehension to create 10 instances of `P` at once."
   ]
  },
  {
   "cell_type": "code",
   "execution_count": 6,
   "id": "366adfc0",
   "metadata": {},
   "outputs": [
    {
     "name": "stdout",
     "output_type": "stream",
     "text": [
      "I am process 0\n",
      "I am process 1\n",
      "I am process 2\n",
      "I am process 3\n",
      "I am process 4\n",
      "I am process 5\n",
      "I am process 6\n",
      "I am process 7\n",
      "I am process 8\n",
      "I am process 9\n"
     ]
    }
   ],
   "source": [
    "@process\n",
    "def P(env, i):\n",
    "    yield env.timeout(1)\n",
    "    print(\"I am process %d\" % i)\n",
    "\n",
    "def model():\n",
    "    env = Environment()\n",
    "    Processes = [P(env, i) for i in range(10)]\n",
    "    env.run()\n",
    "    \n",
    "model()"
   ]
  },
  {
   "cell_type": "markdown",
   "id": "3ec5b59c",
   "metadata": {},
   "source": [
    "## Appendix 7A: process execution order\n",
    "\n",
    "Processes can be running parallel at the same time. If multiple processes generate an event simultaneously, the event which was scheduled first goes first (the event is scheduled as soon as the process reaches the `yield` statement). In the below example, the events are scheduled simultaneously, in which case the event of the process which was defined first (process `P1`) is executed first."
   ]
  },
  {
   "cell_type": "code",
   "execution_count": 7,
   "id": "fc1664c5",
   "metadata": {},
   "outputs": [
    {
     "name": "stdout",
     "output_type": "stream",
     "text": [
      "Process 1 is finished at time 1.0\n",
      "Process 2 is finished at time 1.0\n"
     ]
    }
   ],
   "source": [
    "@process\n",
    "def P(env, i):\n",
    "    yield env.timeout(1)\n",
    "    print(\"Process %d is finished at time %.1f\" % (i, env.now))\n",
    "\n",
    "def model():\n",
    "    env = Environment()\n",
    "    P1 = P(env, 1)\n",
    "    P2 = P(env, 2)\n",
    "    env.run()\n",
    "    \n",
    "model()"
   ]
  },
  {
   "cell_type": "markdown",
   "id": "88d5fb74",
   "metadata": {},
   "source": [
    "---\n",
    "Below we have an example in which the events are not generated simultaneously. In the example, we expect process P2 to be finished first, as its event is scheduled before the second event of process P1."
   ]
  },
  {
   "cell_type": "code",
   "execution_count": 8,
   "id": "2fba0a2a",
   "metadata": {},
   "outputs": [
    {
     "name": "stdout",
     "output_type": "stream",
     "text": [
      "Process 1 is halfway done at time 0.5\n",
      "Process 2 is finished at time 1.0\n",
      "Process 1 is finished at time 1.0\n"
     ]
    }
   ],
   "source": [
    "@process\n",
    "def P_a(env, i):\n",
    "    yield env.timeout(0.5)\n",
    "    print(\"Process %d is halfway done at time %.1f\" % (i, env.now))\n",
    "    yield env.timeout(0.5)\n",
    "    print(\"Process %d is finished at time %.1f\" % (i, env.now))\n",
    "\n",
    "@process\n",
    "def P_b(env, i):\n",
    "    yield env.timeout(1)\n",
    "    print(\"Process %d is finished at time %.1f\" % (i, env.now))\n",
    "\n",
    "def model():\n",
    "    env = Environment()\n",
    "    P1 = P_a(env, 1)\n",
    "    P2 = P_b(env, 2)\n",
    "    env.run()\n",
    "    \n",
    "model()"
   ]
  }
 ],
 "metadata": {
  "kernelspec": {
   "display_name": "Python 3 (ipykernel)",
   "language": "python",
   "name": "python3"
  },
  "language_info": {
   "codemirror_mode": {
    "name": "ipython",
    "version": 3
   },
   "file_extension": ".py",
   "mimetype": "text/x-python",
   "name": "python",
   "nbconvert_exporter": "python",
   "pygments_lexer": "ipython3",
   "version": "3.7.10"
  }
 },
 "nbformat": 4,
 "nbformat_minor": 5
}