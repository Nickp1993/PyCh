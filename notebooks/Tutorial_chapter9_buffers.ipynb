{
 "cells": [
  {
   "cell_type": "markdown",
   "metadata": {},
   "source": [
    "To use the examples in this chapter, first run the code below to import the PyCh Library."
   ]
  },
  {
   "cell_type": "code",
   "execution_count": 2,
   "metadata": {},
   "outputs": [
    {
     "name": "stdout",
     "output_type": "stream",
     "text": [
      "PyCh version 0.2 imported succesfully.\n",
      " \n"
     ]
    }
   ],
   "source": [
    "from PyCh import *"
   ]
  },
  {
   "cell_type": "markdown",
   "metadata": {},
   "source": [
    "# 9 Buffers\n",
    "We ended the previous chapter with a model that illustrates how the buffer functions. In this chapter we will discuss the various types of buffers.\n",
    "\n",
    "Using channels, entities can be transfered from one process to the next, in a synchronous manner (Sender and receiver perform the communication at exactly the same moment in time, and the communication is instantaneous). In many systems however, processes do not use synchronous communication, they use asynchronous communication instead. Entities (products, packets, messages, simple tokens, and so on) are sent, temporarily stored in a buffer, and then received.\n",
    "\n",
    "In fact, the decoupling of sending and receiving is very important, it allows compensating temporarily differences between the number of items that are sent and received (Under the assumption that the receiver is fast enough to keep up with the sender in general, otherwise the buffer will grow forever or overflow).\n",
    "\n",
    "For example, consider the exchange of items from a producer process `P` to a consumer process `C` as shown in the figure below. In the unbuffered situation, both processes communicate at the same time.\n",
    "This means that when one process is (temporarily) faster than the other, it has to wait for the other process before communication can take place.\n",
    "\n",
    "| Figure 9.1: A producer and a consumer |\n",
    "-\n",
    "<img src=\"figures/8-1.png\" width=75%>\n",
    "<a id='fig:9-1'></a>\n",
    "\n",
    "As shown in the example below, when the consumer needs more time to process entities than the producer, then the producer will have to wait for the consumer."
   ]
  },
  {
   "cell_type": "code",
   "execution_count": 14,
   "metadata": {
    "pycharm": {
     "name": "#%%\n"
    }
   },
   "outputs": [
    {
     "name": "stdout",
     "output_type": "stream",
     "text": [
      "The producer has sent entity 0 at t = 0, and had to wait 0 seconds.\n",
      "The producer has sent entity 1 at t = 3, and had to wait 2 seconds.\n",
      "The producer has sent entity 2 at t = 6, and had to wait 2 seconds.\n",
      "The producer has sent entity 3 at t = 9, and had to wait 2 seconds.\n",
      "The producer has sent entity 4 at t = 12, and had to wait 2 seconds.\n"
     ]
    }
   ],
   "source": [
    "@process\n",
    "def producer(env, c_out):\n",
    "    for i in range(5):\n",
    "        t_ready = env.now\n",
    "        yield env.execute(c_out.send(i))\n",
    "        t_waiting = env.now - t_ready\n",
    "        print(f\"The producer has sent entity {i} at t = {env.now}, and had to wait {t_waiting} seconds.\")\n",
    "        yield env.timeout(1)\n",
    "\n",
    "@process\n",
    "def consumer(env, c_in):\n",
    "    while True:\n",
    "        i = yield env.execute(c_in.receive())\n",
    "        yield env.timeout(3)\n",
    "\n",
    "def model():\n",
    "    env = Environment()\n",
    "    a = Channel(env)\n",
    "    P = producer(env, a)\n",
    "    C = consumer(env, a)\n",
    "    env.run()\n",
    "\n",
    "model()"
   ]
  },
  {
   "cell_type": "markdown",
   "metadata": {
    "pycharm": {
     "name": "#%% md\n"
    }
   },
   "source": [
    "With a buffer in-between, the producer can give its item to the buffer, and continue with its work. Likewise, the consumer can pick up a new item from the buffer at any later time (if the buffer has items). In this simulation tool, buffers are not modeled as channels, they are modeled as additional processes instead. The result is shown in Figure 9.2 below.\n",
    "\n",
    "| Figure 9.2: A producer and a consumer, with an additional buffer process. |\n",
    "-\n",
    "<img src=\"figures/9-2.png\" width=75%>\n",
    "<a id='fig:9-2'></a>\n",
    "\n",
    "The producer sends its items synchronously (using channel `a`) to the buffer process. The buffer process keeps the item until it is needed. The consumer gets an item synchronously (using channel `b`) from the buffer when it needs a new item (and one is available).\n",
    "\n",
    "In manufacturing networks, buffers, in combination with servers, play a prominent role, for buffering items in the network. Various buffer types exist in these networks: buffers can have a finite or infinite capacity, they have a input/output discipline, for example a first-out queuing discipline or a priority-based discipline. Buffers can store different kinds of items, for example, product-items, information-items, or a combination of both. Buffers may also have sorting facilities, etc.\n",
    "\n",
    "In this chapter some buffer types are described, and with the presented concepts numerous types of buffer can be designed by the engineer. First a simple buffer process with one buffer position is presented, followed by more advanced buffer models.\n",
    "The producer and consumer processes are not discussed in this chapter."
   ]
  },
  {
   "cell_type": "markdown",
   "metadata": {},
   "source": [
    "## 9.1 A one-place buffer\n",
    "A buffer usually has a receiving channel and a sending channel, for receiving and sending items. A buffer, buffer `B1`, is presented in Figure 9.3.\n",
    "\n",
    "| Figure 9.3: A 1-place buffer. |\n",
    "-\n",
    "<img src=\"figures/9-3.png\" width=75%>\n",
    "<a id='fig:9-3'></a>\n",
    "\n",
    "The simplest buffer is a one-place buffer, for buffering precisely one item. A one-place buffer is shown below.  `c_in` and `c_out` are the receiving and sending channels. Entity `i` is buffered in the process. A buffer receives an item, stores the item, and sends the item to the next process, if the next process is willing to receive the item. The buffer is not willing to receive a second item, as long as the first item is still in the buffer. "
   ]
  },
  {
   "cell_type": "code",
   "execution_count": 15,
   "metadata": {
    "pycharm": {
     "name": "#%%\n"
    }
   },
   "outputs": [
    {
     "name": "stdout",
     "output_type": "stream",
     "text": [
      "The producer has sent entity 0 at t = 0, and had to wait 0 seconds.\n",
      "The producer has sent entity 1 at t = 1, and had to wait 0 seconds.\n",
      "The producer has sent entity 2 at t = 3, and had to wait 1 seconds.\n",
      "The producer has sent entity 3 at t = 6, and had to wait 2 seconds.\n",
      "The producer has sent entity 4 at t = 9, and had to wait 2 seconds.\n"
     ]
    }
   ],
   "source": [
    "@process\n",
    "def buffer(env, c_in, c_out):\n",
    "    while True:\n",
    "        i = yield env.execute(c_in.receive())\n",
    "        yield env.execute(c_out.send(i))\n",
    "\n",
    "def model():\n",
    "    env = Environment()\n",
    "    a = Channel(env)\n",
    "    b = Channel(env)\n",
    "    P = producer(env, a)\n",
    "    B1 = buffer(env, a, b)\n",
    "    C = consumer(env, b)\n",
    "    env.run()\n",
    "\n",
    "model()"
   ]
  },
  {
   "cell_type": "markdown",
   "metadata": {
    "pycharm": {
     "name": "#%% md\n"
    }
   },
   "source": [
    "---\n",
    "A two-place buffer can be created, by using the one-place buffer process twice. A two-place buffer is depicted below.\n",
    "\n",
    "| Figure 9.4: A 2-place buffer. |\n",
    "-\n",
    "<img src=\"figures/9-4.png\" width=75%>\n",
    "<a id='fig:9-4'></a>\n",
    "\n",
    "A two-place buffer is shown below. In the two-place buffer, processes `B1` and `B2` buffer maximal two items.\n",
    "If each buffer process contains an item, a third item has to wait in front of process `B1`. \n",
    "\n",
    "Note that `buffer_2_place` is not a process but a submodel, because it does not yield any events by itself"
   ]
  },
  {
   "cell_type": "code",
   "execution_count": 16,
   "metadata": {},
   "outputs": [
    {
     "name": "stdout",
     "output_type": "stream",
     "text": [
      "The producer has sent entity 0 at t = 0, and had to wait 0 seconds.\n",
      "The producer has sent entity 1 at t = 1, and had to wait 0 seconds.\n",
      "The producer has sent entity 2 at t = 2, and had to wait 0 seconds.\n",
      "The producer has sent entity 3 at t = 3, and had to wait 0 seconds.\n",
      "The producer has sent entity 4 at t = 6, and had to wait 2 seconds.\n"
     ]
    }
   ],
   "source": [
    "def buffer_2_place(env, c_in, c_out):\n",
    "    c_B1B2 = Channel(env)\n",
    "    B1 = buffer(env, c_in, c_B1B2)\n",
    "    B2 = buffer(env, c_B1B2, c_out)\n",
    "    \n",
    "def model():\n",
    "    env = Environment()\n",
    "    a = Channel(env)\n",
    "    b = Channel(env)\n",
    "    P = producer(env, a)\n",
    "    B = buffer_2_place(env, a, b)\n",
    "    C = consumer(env, b)\n",
    "    env.run()\n",
    "\n",
    "model()"
   ]
  },
  {
   "cell_type": "markdown",
   "metadata": {},
   "source": [
    "---\n",
    "This procedure can be extended to create even larger buffers. Another, more preferable manner however, is to describe a buffer in a single process by using a `select` statement and a list for storage of the items. Such a buffer is discussed in the next section."
   ]
  },
  {
   "cell_type": "markdown",
   "metadata": {},
   "source": [
    "## 9.2 A single process buffer\n",
    "An informal description of the process of a buffer, with an arbitrary number of stored items, is the following:\n",
    "- If the buffer has space for an item, *and* can receive an item from another process via channel `a`,\n",
    "    the buffer process receives that item, and stores the item in the buffer.\n",
    "- If the buffer contains at least one item, *and* the buffer can send that item to another process via\n",
    "    channel `b`, the buffer process sends that item, and removes that item from the buffer.\n",
    "- If the buffer can both send and receive a value, the buffer process selects one of the two possibilities (in a non-deterministic manner).\n",
    "- If the buffer can not receive an item, and can not send an item, the buffer process waits.\n",
    "\n",
    "Next to the sending and receiving of items (to and from the buffer process) is the question of how to order the stored items.\n",
    "A common form is the *first-in first-out* (fifo) queuing discipline.\n",
    "Items that enter the buffer first (first-in) also leave first (first-out), the order of items is preserved by the buffer process.\n",
    "\n",
    "In the model of the buffer, list `xs` is used for storing the received items.\n",
    "New item `x` is added at the rear of list by the statement:\n",
    "\n",
    "    xs = xs+ [x]\n",
    "    \n",
    "When the first item is sent, it is removed from the list with:\n",
    "    \n",
    "    xs = xs[1:]\n",
    "    "
   ]
  },
  {
   "cell_type": "code",
   "execution_count": null,
   "metadata": {},
   "outputs": [],
   "source": []
  },
  {
   "cell_type": "code",
   "execution_count": null,
   "metadata": {},
   "outputs": [],
   "source": []
  },
  {
   "cell_type": "code",
   "execution_count": null,
   "metadata": {},
   "outputs": [],
   "source": []
  },
  {
   "cell_type": "code",
   "execution_count": 51,
   "metadata": {},
   "outputs": [],
   "source": [
    "@process\n",
    "def Generator(env, c_out):\n",
    "    for x in range(5):\n",
    "        yield env.execute(c_out.send(x))\n",
    "\n",
    "@process\n",
    "def Server(env, c_in, c_out, t_processing):\n",
    "    while True:\n",
    "        x = yield env.execute(c_in.receive())\n",
    "        yield env.timeout(t_processing)\n",
    "        yield env.execute(c_out.send(x))\n",
    "\n",
    "@process\n",
    "def Exit(env, c_in):\n",
    "    while True:\n",
    "        x = yield env.execute(c_in.receive())"
   ]
  },
  {
   "cell_type": "code",
   "execution_count": 52,
   "metadata": {
    "pycharm": {
     "name": "#%%\n"
    }
   },
   "outputs": [
    {
     "ename": "TypeError",
     "evalue": "Server() missing 1 required positional argument: 't_processing'",
     "output_type": "error",
     "traceback": [
      "\u001b[1;31m---------------------------------------------------------------------------\u001b[0m",
      "\u001b[1;31mTypeError\u001b[0m                                 Traceback (most recent call last)",
      "\u001b[1;32m~\\AppData\\Local\\Temp/ipykernel_5068/527437900.py\u001b[0m in \u001b[0;36m<module>\u001b[1;34m\u001b[0m\n\u001b[0;32m     31\u001b[0m     \u001b[0menv\u001b[0m\u001b[1;33m.\u001b[0m\u001b[0mrun\u001b[0m\u001b[1;33m(\u001b[0m\u001b[1;33m)\u001b[0m\u001b[1;33m\u001b[0m\u001b[1;33m\u001b[0m\u001b[0m\n\u001b[0;32m     32\u001b[0m \u001b[1;33m\u001b[0m\u001b[0m\n\u001b[1;32m---> 33\u001b[1;33m \u001b[0mmodel\u001b[0m\u001b[1;33m(\u001b[0m\u001b[1;33m)\u001b[0m\u001b[1;33m\u001b[0m\u001b[1;33m\u001b[0m\u001b[0m\n\u001b[0m",
      "\u001b[1;32m~\\AppData\\Local\\Temp/ipykernel_5068/527437900.py\u001b[0m in \u001b[0;36mmodel\u001b[1;34m()\u001b[0m\n\u001b[0;32m     27\u001b[0m     \u001b[0mG\u001b[0m \u001b[1;33m=\u001b[0m \u001b[0mGenerator\u001b[0m\u001b[1;33m(\u001b[0m\u001b[0menv\u001b[0m\u001b[1;33m,\u001b[0m \u001b[0ma\u001b[0m\u001b[1;33m)\u001b[0m\u001b[1;33m\u001b[0m\u001b[1;33m\u001b[0m\u001b[0m\n\u001b[0;32m     28\u001b[0m     \u001b[0mB\u001b[0m \u001b[1;33m=\u001b[0m \u001b[0mBuffer\u001b[0m\u001b[1;33m(\u001b[0m\u001b[0menv\u001b[0m\u001b[1;33m,\u001b[0m \u001b[0ma\u001b[0m\u001b[1;33m,\u001b[0m \u001b[0mb\u001b[0m\u001b[1;33m)\u001b[0m\u001b[1;33m\u001b[0m\u001b[1;33m\u001b[0m\u001b[0m\n\u001b[1;32m---> 29\u001b[1;33m     \u001b[0mS\u001b[0m \u001b[1;33m=\u001b[0m \u001b[0mServer\u001b[0m\u001b[1;33m(\u001b[0m\u001b[0menv\u001b[0m\u001b[1;33m,\u001b[0m \u001b[0mb\u001b[0m\u001b[1;33m,\u001b[0m \u001b[0mc\u001b[0m\u001b[1;33m)\u001b[0m\u001b[1;33m\u001b[0m\u001b[1;33m\u001b[0m\u001b[0m\n\u001b[0m\u001b[0;32m     30\u001b[0m     \u001b[0mE\u001b[0m \u001b[1;33m=\u001b[0m \u001b[0mExit\u001b[0m\u001b[1;33m(\u001b[0m\u001b[0menv\u001b[0m\u001b[1;33m,\u001b[0m \u001b[0mc\u001b[0m\u001b[1;33m)\u001b[0m\u001b[1;33m\u001b[0m\u001b[1;33m\u001b[0m\u001b[0m\n\u001b[0;32m     31\u001b[0m     \u001b[0menv\u001b[0m\u001b[1;33m.\u001b[0m\u001b[0mrun\u001b[0m\u001b[1;33m(\u001b[0m\u001b[1;33m)\u001b[0m\u001b[1;33m\u001b[0m\u001b[1;33m\u001b[0m\u001b[0m\n",
      "\u001b[1;32m~\\Documents\\Simulation in python\\PyCh\\src\\PyCh\\core\\environment.py\u001b[0m in \u001b[0;36mwrapper\u001b[1;34m(*args, **kwargs)\u001b[0m\n\u001b[0;32m    190\u001b[0m                 \u001b[1;34m'be its Environment.'\u001b[0m\u001b[1;33m\u001b[0m\u001b[1;33m\u001b[0m\u001b[0m\n\u001b[0;32m    191\u001b[0m             )\n\u001b[1;32m--> 192\u001b[1;33m         \u001b[1;32mreturn\u001b[0m \u001b[0menv\u001b[0m\u001b[1;33m.\u001b[0m\u001b[0mprocess\u001b[0m\u001b[1;33m(\u001b[0m\u001b[0mfunc\u001b[0m\u001b[1;33m(\u001b[0m\u001b[1;33m*\u001b[0m\u001b[0margs\u001b[0m\u001b[1;33m,\u001b[0m \u001b[1;33m**\u001b[0m\u001b[0mkwargs\u001b[0m\u001b[1;33m)\u001b[0m\u001b[1;33m)\u001b[0m\u001b[1;33m\u001b[0m\u001b[1;33m\u001b[0m\u001b[0m\n\u001b[0m\u001b[0;32m    193\u001b[0m \u001b[1;33m\u001b[0m\u001b[0m\n\u001b[0;32m    194\u001b[0m     \u001b[1;32mreturn\u001b[0m \u001b[0mwrapper\u001b[0m\u001b[1;33m\u001b[0m\u001b[1;33m\u001b[0m\u001b[0m\n",
      "\u001b[1;31mTypeError\u001b[0m: Server() missing 1 required positional argument: 't_processing'"
     ]
    }
   ],
   "source": [
    "@process\n",
    "def Buffer(env, a, b):\n",
    "    xs = [];\n",
    "    while True:\n",
    "        print(\"The buffer contains\", len(xs), \"item(s)\")\n",
    "        receiving = a.receive()\n",
    "        guard_sending = len(xs)>0                             # The guard function for the sending event\n",
    "        sending = b.send(xs[0]) if guard_sending else None    # If the guard is not satisfied, sending is defines as None\n",
    "        x = yield env.select(receiving, sending)\n",
    "        if selected(receiving):\n",
    "            xs = xs + [x]\n",
    "        if selected(sending):\n",
    "            xs = xs[1:]\n",
    "\n",
    "\n",
    "\n",
    "@process\n",
    "def Exit(env, b):\n",
    "    while True:\n",
    "        x = yield env.execute(b.receive())\n",
    "               \n",
    "def model():\n",
    "    env = Environment()\n",
    "    a = Channel(env)\n",
    "    b = Channel(env)\n",
    "    c = Channel(env)\n",
    "    G = Generator(env, a)\n",
    "    B = Buffer(env, a, b)\n",
    "    S = Server(env, b, c)\n",
    "    E = Exit(env, c)\n",
    "    env.run()\n",
    "    \n",
    "model()"
   ]
  },
  {
   "cell_type": "code",
   "execution_count": null,
   "metadata": {},
   "outputs": [],
   "source": []
  }
 ],
 "metadata": {
  "kernelspec": {
   "display_name": "Python (pychEnv)",
   "language": "python",
   "name": "pychenv"
  },
  "language_info": {
   "codemirror_mode": {
    "name": "ipython",
    "version": 3
   },
   "file_extension": ".py",
   "mimetype": "text/x-python",
   "name": "python",
   "nbconvert_exporter": "python",
   "pygments_lexer": "ipython3",
   "version": "3.7.1"
  }
 },
 "nbformat": 4,
 "nbformat_minor": 5
}
