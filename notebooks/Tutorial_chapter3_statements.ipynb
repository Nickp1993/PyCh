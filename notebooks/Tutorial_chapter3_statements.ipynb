{
 "cells": [
  {
   "cell_type": "code",
   "execution_count": null,
   "id": "71a3ba3a",
   "metadata": {},
   "outputs": [],
   "source": [
    "from PyCh import *"
   ]
  },
  {
   "cell_type": "markdown",
   "id": "422d109c",
   "metadata": {},
   "source": [
    "# 3 Statements"
   ]
  },
  {
   "cell_type": "markdown",
   "id": "df3d658d",
   "metadata": {},
   "source": []
  },
  {
   "cell_type": "markdown",
   "id": "8f8430a1",
   "metadata": {},
   "source": [
    "## 3.1 The assignment statement"
   ]
  },
  {
   "cell_type": "markdown",
   "id": "29d5cd0c",
   "metadata": {},
   "source": []
  },
  {
   "cell_type": "markdown",
   "id": "567ee589",
   "metadata": {},
   "source": [
    "## 3.2 The if statement"
   ]
  },
  {
   "cell_type": "markdown",
   "id": "0233a889",
   "metadata": {},
   "source": []
  },
  {
   "cell_type": "markdown",
   "id": "dfacd03b",
   "metadata": {},
   "source": [
    "## 3.3 The while statement"
   ]
  },
  {
   "cell_type": "markdown",
   "id": "ebeea5de",
   "metadata": {},
   "source": []
  },
  {
   "cell_type": "markdown",
   "id": "7906707e",
   "metadata": {},
   "source": [
    "## 3.4 The for statement"
   ]
  },
  {
   "cell_type": "markdown",
   "id": "59356ef4",
   "metadata": {},
   "source": []
  },
  {
   "cell_type": "markdown",
   "id": "6a29378c",
   "metadata": {},
   "source": [
    "## 3.5 Notes"
   ]
  },
  {
   "cell_type": "markdown",
   "id": "83c0ca10",
   "metadata": {},
   "source": []
  },
  {
   "cell_type": "markdown",
   "id": "202295f9",
   "metadata": {},
   "source": [
    "## 3.6 Exercises"
   ]
  },
  {
   "cell_type": "markdown",
   "id": "5288ea3d",
   "metadata": {},
   "source": []
  },
  {
   "cell_type": "markdown",
   "id": "351686b5",
   "metadata": {},
   "source": [
    "## 3.7 Answers to exercises"
   ]
  },
  {
   "cell_type": "markdown",
   "id": "9d1c5c62",
   "metadata": {},
   "source": []
  }
 ],
 "metadata": {
  "kernelspec": {
   "display_name": "Python 3 (ipykernel)",
   "language": "python",
   "name": "python3"
  },
  "language_info": {
   "codemirror_mode": {
    "name": "ipython",
    "version": 3
   },
   "file_extension": ".py",
   "mimetype": "text/x-python",
   "name": "python",
   "nbconvert_exporter": "python",
   "pygments_lexer": "ipython3",
   "version": "3.8.10"
  }
 },
 "nbformat": 4,
 "nbformat_minor": 5
}
