{
 "cells": [
  {
   "cell_type": "markdown",
   "id": "b6d9d0df",
   "metadata": {},
   "source": [
    "To use the examples in this chapter, first run the code below to import the PyCh Library."
   ]
  },
  {
   "cell_type": "code",
   "execution_count": 7,
   "id": "de2a8047",
   "metadata": {},
   "outputs": [
    {
     "name": "stdout",
     "output_type": "stream",
     "text": [
      "PyCh version 0.1 imported succesfully.\n",
      " \n"
     ]
    }
   ],
   "source": [
    "from PyCh import *"
   ]
  },
  {
   "cell_type": "markdown",
   "id": "91ac5960",
   "metadata": {},
   "source": [
    "# 8 Channels\n",
    "In the previous chapter processes have been introduced. This chapter describes channels.\n",
    "A channel connects two processes and is used for the transfer of data or just signals.\n",
    "One process is the sending process, the other process is the receiving process.\n",
    "Communication between the processes takes place instantly when both processes are willing to communicate,\n",
    " this is called *synchronous* communication."
   ]
  },
  {
   "cell_type": "markdown",
   "id": "3ea3d25b",
   "metadata": {},
   "source": [
    "\n",
    "\n",
    "## 8.1 A channel\n",
    "\n",
    "We can send an entity over a channel by using `Channel.send(entity)`,  and we can receive over the same channel by using `Channel.receive()`. These are called communication events. Unlike timeout events or processes, communication events do not start as soon as they are defined. Instead, `Environment.execute(communication event)` is used to start the communication event. \n",
    "\n",
    "Communication over a channel requires a process which is sending, and a process which is receiving. If a process has no other process to communicate with, then it will have to wait. Communication is only completed once the receiving process has received the entity from the sending process. If a process uses the `yield` statement, such as with `yield environment.execute(communication event)`, then the process waits till communication has completed (from both sides!) before it continues.\n",
    "\n",
    "A channel can transmit any object as entity; for example an integer, a string, or a custom data type. It is even possible to send a signal without data by using `channel.send(None)`, these signals are called *synchronization signals*, as they just synchronize actions between different processes.\n"
   ]
  },
  {
   "cell_type": "markdown",
   "id": "6f252a17",
   "metadata": {},
   "source": [
    "\n",
    "### 8.1.1 Example 1\n",
    "\n",
    "The figure below shows the two processes `P` and `C`, connected by channel `a`. Processes are denoted by circles, and channels are denoted by directed arrows in the figure. The arrow denotes the direction of communication. Process `P` is the sender or producer, process `C` is the receiver or consumer.\n",
    "\n",
    "| Figure 1: A producer and a consumer | \n",
    "- \n",
    "<img src=\"figures/8-1.png\" width=75%>\n",
    "<a id='fig:8-1'></a>\n",
    "\n",
    "In the model below, the producer `P` sends a stream of five integer values to consumer `C`. \n",
    "The producer sends integers `i` over channel `a`, which is realized through `env.execute(a.send(i))`. It sends the sequence of values `0, 1, 2, 3, 4` one after the other. The consumer receives these values one by one over channel `a` with `x = yield env.execute(a.receive())`. It then prints these values as output."
   ]
  },
  {
   "cell_type": "code",
   "execution_count": 8,
   "id": "8027f8de",
   "metadata": {
    "pycharm": {
     "name": "#%% python code\n"
    }
   },
   "outputs": [
    {
     "name": "stdout",
     "output_type": "stream",
     "text": [
      "0\n",
      "1\n",
      "2\n",
      "3\n",
      "4\n"
     ]
    }
   ],
   "source": [
    "@process\n",
    "def producer(env, a):\n",
    "    for i in range(5):\n",
    "        yield env.execute(a.send(i))\n",
    "\n",
    "@process\n",
    "def consumer(env, a):\n",
    "    while True:\n",
    "        i = yield env.execute(a.receive())\n",
    "        print(i)\n",
    "\n",
    "def model():\n",
    "    env = Environment()\n",
    "    a = Channel(env)\n",
    "    P = producer(env, a)\n",
    "    C = consumer(env, a)\n",
    "\n",
    "    env.run()\n",
    "    \n",
    "model()"
   ]
  },
  {
   "cell_type": "markdown",
   "id": "fd74b585",
   "metadata": {},
   "source": [
    "--- \n",
    "### 8.1.2 Example 2\n",
    "Below we see an example in which synchronization signals are used; the producer does not send any data (it sends `None`). We first define our communication events through `sending = a.send(None)` and `receiving = a.receive()`, before executing and yielding them. This also allows us to later access the received entity through `receiving.entity` (which in this example is `None`)."
   ]
  },
  {
   "cell_type": "code",
   "execution_count": 9,
   "id": "efae250f",
   "metadata": {},
   "outputs": [
    {
     "name": "stdout",
     "output_type": "stream",
     "text": [
      "None\n",
      "None\n",
      "None\n",
      "None\n",
      "None\n"
     ]
    }
   ],
   "source": [
    "@process\n",
    "def producer(env, a):\n",
    "    for i in range(5):\n",
    "        sending = a.send(None)\n",
    "        yield env.execute(sending)\n",
    "\n",
    "@process\n",
    "def consumer(env, a):\n",
    "    while True:\n",
    "        receiving = a.receive()\n",
    "        yield env.execute(receiving)\n",
    "        print(receiving.entity)\n",
    "\n",
    "def model():\n",
    "    env = Environment()\n",
    "    a = Channel(env)\n",
    "    P = producer(env, a)\n",
    "    C = consumer(env, a)\n",
    "\n",
    "    env.run()\n",
    "    \n",
    "model()"
   ]
  },
  {
   "cell_type": "markdown",
   "id": "8c6da43c",
   "metadata": {},
   "source": [
    "## 8.2 Two channels\n",
    "A process can have more than one channel, allowing interaction with several other processes.\n",
    "\n",
    "The next example shows two channels, `a` and `b`, and three processes, generator `G`, server `S` and exit `E`. Process `G` is connected via channel `a` to process `S` and process `S` is connected via channel `b` to process `E`.\n",
    "The model is given in the figure below. \n",
    "\n",
    "\n",
    "| Figure 2: A generator, a server and an exit | \n",
    "- \n",
    "<img src=\"figures/8-2.png\" width=75%>\n",
    "<a id='fig:8-2'></a>\n",
    "\n",
    "The model below shows an example of such a configuration. Process `G` sends a stream of integer values `0, 1, 2, 3, 4` to another process via channel `a`. \n",
    "Process `S` receives a value via channel `a`, assigns this value to variable `x`, doubles the value of the variable, and sends the value of the variable via `b` to another process.\n",
    "Process `E` receives a value via channel `b`, assigns this value to the variable `x`, and prints this value.\n",
    "\n",
    "After printing these five lines, process `G` stops, and processes `S` and `E` are no longer able to receive anything, so the simulation ends.\n"
   ]
  },
  {
   "cell_type": "code",
   "execution_count": 10,
   "id": "27ee586c",
   "metadata": {},
   "outputs": [
    {
     "name": "stdout",
     "output_type": "stream",
     "text": [
      "Exit received 0\n",
      "Exit received 2\n",
      "Exit received 4\n",
      "Exit received 6\n",
      "Exit received 8\n"
     ]
    }
   ],
   "source": [
    "@process\n",
    "def Generator(env, a):\n",
    "    for x in range(5):\n",
    "        sending = a.send(x)\n",
    "        yield env.execute(sending)\n",
    "\n",
    "@process\n",
    "def Server(env, a, b):\n",
    "    while True:\n",
    "        receiving = a.receive()\n",
    "        x = yield env.execute(receiving)\n",
    "        \n",
    "        sending = b.send(2*x)\n",
    "        yield env.execute(sending)\n",
    "\n",
    "@process\n",
    "def Exit(env, b):\n",
    "    while True:\n",
    "        receiving = b.receive()\n",
    "        x = yield env.execute(receiving)\n",
    "        print('Exit received', x)\n",
    "\n",
    "def model():\n",
    "    env = Environment()\n",
    "    a = Channel(env)\n",
    "    b = Channel(env)\n",
    "    \n",
    "    G = Generator(env, a)\n",
    "    S = Server(env, a, b)\n",
    "    E = Exit(env, b)\n",
    "    \n",
    "    env.run()\n",
    "    \n",
    "model()"
   ]
  },
  {
   "cell_type": "code",
   "execution_count": 11,
   "id": "2374a8f5",
   "metadata": {},
   "outputs": [],
   "source": [
    "def model():\n",
    "    env = Environment()\n",
    "    a = [Channel(env) for i in range(10)]\n",
    "    b = Channel(env)\n",
    "    \n",
    "    G = Generator(env, a[0])\n",
    "    S = Server(env, a, b)\n",
    "    E = Exit(env, b)\n",
    "    \n",
    "    env.run()\n",
    "    "
   ]
  },
  {
   "cell_type": "markdown",
   "id": "3257c314",
   "metadata": {},
   "source": [
    "## 8.3 More senders or receivers\n",
    "Channels send a message (or a signal in case of synchronization channels) from one sender to one receiver.\n",
    "It is however allowed to give the same channel to several sender or receiver processes. The channel selects a sender and a receiver before each communication.\n",
    "\n",
    "The following example gives an illustration, see the figure below.\n",
    "\n",
    "| Figure 3: A generator, two servers and an exit | \n",
    "- \n",
    "<img src=\"figures/8-3.png\" width=75%>\n",
    "<a id='fig:8-3'></a>\n",
    "\n",
    "Suppose that only `G` and `S0` want to communicate. The channel can select a sender (namely `G`) and a receiver (process `S0`), and let both processes communicate with each other.\n",
    "When sender `G`, and both receivers (`S0` and `S1`), want to communicate,\n",
    "the channel selects a sender (`G` as it is the only sender available to the channel), and a receiver (either process `S0` or process `S1`), and it lets the selected processes communicate with each other. This selection process is random.\n",
    "\n",
    "Sharing a channel in this way allows to send data to receiving processes where the receiving party is not relevant (either server process will do).\n",
    "This way of communication is different from *broadcasting*, where both servers receive the same data value. Broadcasting is not supported by PyCh.\n",
    "\n",
    "In case of two senders, `S0` and `S1`, and one receiver `E` the selection process is the same.\n",
    "If one of the two servers `S` can communicate with exit `E`, communication between that server and the exit takes place.\n",
    "If both servers can communicate, a random choice is made.\n",
    "\n",
    "Having several senders and several receivers for a single channel is also handled in the same manner.\n",
    "A random choice is made for the sending process and a random choice is made for the receiving process before each communication.\n",
    "\n",
    "To communicate with several other processes but without non-determinism, unique channels must be used.\n",
    "\n",
    "Below is the model for the configuration with two servers. We can re-use the process functions defined in the one server example; only the model needs to be redefined."
   ]
  },
  {
   "cell_type": "code",
   "execution_count": 12,
   "id": "f30b1c37",
   "metadata": {},
   "outputs": [
    {
     "name": "stdout",
     "output_type": "stream",
     "text": [
      "Exit received 0\n",
      "Exit received 2\n",
      "Exit received 4\n",
      "Exit received 6\n",
      "Exit received 8\n"
     ]
    }
   ],
   "source": [
    "def model():\n",
    "    env = Environment()\n",
    "    a = Channel(env)\n",
    "    b = Channel(env)\n",
    "    \n",
    "    G = Generator(env, a)\n",
    "    S1 = Server(env, a, b)\n",
    "    S2 = Server(env, a, b)\n",
    "    E = Exit(env, b)\n",
    "    \n",
    "    env.run()\n",
    "    \n",
    "model()"
   ]
  },
  {
   "cell_type": "markdown",
   "id": "0f8a737a",
   "metadata": {},
   "source": [
    "## 8.4 Many channels\n",
    "Multiple channels can also be defined at once using list comprehension.\n",
    "This can be useful in combination with list comprehension for processes.\n",
    "\n",
    "Below is an example of using list comprehension to quickly create three channels at once for three parallel production processes.\n",
    "\n",
    "| Figure 4: Three parallel production processes | \n",
    "- \n",
    "<img src=\"figures/8-4.png\" width=50%>\n",
    "<a id='fig:8-4'></a>\n",
    "\n",
    "The model for this example is as follows:"
   ]
  },
  {
   "cell_type": "code",
   "execution_count": 17,
   "id": "018a3394",
   "metadata": {},
   "outputs": [
    {
     "name": "stdout",
     "output_type": "stream",
     "text": [
      "Exit received 0\n",
      "Exit received 4\n",
      "Exit received 8\n",
      "Exit received 12\n",
      "Exit received 16\n"
     ]
    }
   ],
   "source": [
    "def model():\n",
    "    N = 3\n",
    "    \n",
    "    env = Environment()\n",
    "    a = Channel(env)\n",
    "    b = [Channel(env) for i in range(N)]\n",
    "    c = Channel(env)\n",
    "    \n",
    "    G = Generator(env, a)\n",
    "    S012 = [Server(env, a, b[i]) for i in range(N)]\n",
    "    S345 = [Server(env, b[i], c) for i in range(N)]\n",
    "    E = Exit(env, c)\n",
    "    \n",
    "    env.run()\n",
    "    \n",
    "model()"
   ]
  },
  {
   "cell_type": "markdown",
   "id": "639dc365",
   "metadata": {},
   "source": [
    "## 8.5 The select statement\n",
    "...\n"
   ]
  },
  {
   "cell_type": "markdown",
   "id": "c0262d0d",
   "metadata": {},
   "source": [
    "## 8.X Summary\n",
    "\n",
    "- A channel is defined with `channel = Channel(environment)`\n",
    "- Communication over a channel is done using communication events.\n",
    "    - A process can send an entity over a channel with communication event `sending = channel.send(entity)`\n",
    "    - A process can receive over a channel with communication event `receiving = channel.receive()` \n",
    "    - Communication events do not start automatically, they need to be executed through `env.execute(communication event)`\n",
    "- A channel can transmit any type of entity; for example integers, strings, or even a custom data type\n",
    "    - a Signal without data is named a *synchronization signal* and is done through: `channel.send(None)`\n",
    "- A channel can have several processes sending and/or receiving.\n",
    "    - If multiple processes want to send/receive at the same time, then the channel will select a sender and a receiver at random.\n",
    "- Multiple channels can be defined using list comprehension, which can be useful in combination with list comprehension for processes.\n",
    "\t- An example would be `channels = [Channel(env) for i in range(10)]`\n",
    "- A process can select one of multiple communication events. Only the first communication event which is able to communicate will be executed, the others are aborted. If multiple communication events are able to communicate at the same time, then one is chosen at random. This can be done through:\n",
    "    - `env.select(communication event 1, communication event 2, ...)`\n",
    "    - `env.select(*list of communication events)`\n",
    "    - or with a combination of the two: `env.select(*list of communication events 1-3, communication event 4, ...)`"
   ]
  },
  {
   "cell_type": "markdown",
   "id": "5933b0d6",
   "metadata": {},
   "source": [
    "## 8.X Exercises\n",
    "1. Given is the specification of process `P` and model `M`. Why does the model terminate immediately?\n",
    "\n"
   ]
  },
  {
   "cell_type": "code",
   "execution_count": 15,
   "id": "57bbb15c",
   "metadata": {},
   "outputs": [],
   "source": [
    "@process\n",
    "def P(env, a, b):\n",
    "    x = 0\n",
    "    while True:\n",
    "        x = yield env.execute(a.receive())\n",
    "        x = x + 1\n",
    "        print(x)   \n",
    "        sending = a.send(x)\n",
    "        yield env.execute(b.send())\n",
    "\n",
    "def M():\n",
    "    env = Environment()\n",
    "    a = Channel(env)\n",
    "    b = Channel(env)\n",
    "   \n",
    "    P1 = P(a,b)\n",
    "    P2 = P(b,a)\n",
    "\n",
    "    env.run()\n"
   ]
  },
  {
   "cell_type": "markdown",
   "id": "fb3ab500",
   "metadata": {},
   "source": [
    "2. Six children have been given the assignment to perform a series of calculations on the numbers $0,1,2,3,\\ldots ,9$, namely add 2, multiply by 3, multiply by 2, and add 6 subsequently. They decide to split up the calculations and to operate in parallel. They sit down at a table next to each other. The first child, the reader $R$, reads the numbers $0,1,2,3,\\ldots ,9$ one by one to the first calculating child $C_1$. Child $C_1$ adds 2 and tells the result to its right neighbour, child $C_2$.  After telling the result to child $C_2$, child $C_1$ is able to start calculating on the next number the reader $R$ tells him. Children $C_2$, $C_3$, and $C_4$ are analogous to child $C_1$; they each perform a different calculation on a number they hear and tell the result to their right neighbour. At the end of the table the writer $W$ writes every result he hears down on paper. The figure below shows a schematic drawing of the children at the table.\n",
    "\n",
    "\n",
    "| Figure 5: The six children |\n",
    "- \n",
    "<img src=\"figures/Fivechild.png\" width=75%>\n",
    "<a id='fig:8-4'></a>\n",
    "\n",
    "a. Finish the specification for the reading child $R$, that reads the numbers 0 till 9 one by one."
   ]
  },
  {
   "cell_type": "code",
   "execution_count": 24,
   "id": "32eeb615",
   "metadata": {},
   "outputs": [],
   "source": [
    "@process\n",
    "def R(env, ...):\n",
    "    i = 0\n",
    "    while i < 10:\n",
    "        ..."
   ]
  },
  {
   "cell_type": "markdown",
   "id": "a19f79a8",
   "metadata": {},
   "source": [
    "b. Specify the parameterized process $C_{\\textit{add}}$ that represents the children $C_1$ and $C_4$, who perform an addition."
   ]
  },
  {
   "cell_type": "code",
   "execution_count": null,
   "id": "79ee33d5",
   "metadata": {},
   "outputs": [],
   "source": [
    "@process\n",
    "def C_add(env, ...):\n",
    "    while True:\n",
    "        ..."
   ]
  },
  {
   "cell_type": "markdown",
   "id": "9f3985a3",
   "metadata": {},
   "source": [
    "c. Specify the parameterized process $C_{\\textit{mul}}$ that represents the children $C_2$ and $C_3$, who perform a multiplication."
   ]
  },
  {
   "cell_type": "code",
   "execution_count": null,
   "id": "36f0b579",
   "metadata": {},
   "outputs": [],
   "source": [
    "@process\n",
    "def C_mul(env, ...):\n",
    "    while True:\n",
    "        ..."
   ]
  },
  {
   "cell_type": "markdown",
   "id": "08457bd8",
   "metadata": {},
   "source": [
    "d. Specify the process $W$ representing the writing child. Print each result as output."
   ]
  },
  {
   "cell_type": "code",
   "execution_count": null,
   "id": "3c0f988d",
   "metadata": {},
   "outputs": [],
   "source": [
    "@process\n",
    "def W(env, a):\n",
    "    while True:\n",
    "        ..."
   ]
  },
  {
   "cell_type": "markdown",
   "id": "6b53266c",
   "metadata": {},
   "source": [
    "e. Make a graphical representation of the model `SixChildren` that is composed of the six children."
   ]
  },
  {
   "cell_type": "markdown",
   "id": "adf7adcf",
   "metadata": {},
   "source": [
    "f. Specify the model `SixChildren`. Simulate the model."
   ]
  },
  {
   "cell_type": "code",
   "execution_count": null,
   "id": "7108a9ca",
   "metadata": {},
   "outputs": [],
   "source": [
    "def SixChildren():\n",
    "    env = Environment()\n",
    "    \n",
    "    ...\n",
    "\n",
    "    env.run()\n",
    "    \n",
    "SixChildren()"
   ]
  },
  {
   "cell_type": "markdown",
   "id": "533c0a5a",
   "metadata": {},
   "source": [
    "<details>\n",
    "    <summary>[Click for the answer to a]</summary>\n",
    "\n",
    "    Answer:\n",
    "    \n",
    "```python\n",
    "@process\n",
    "def R(env, a):\n",
    "    i = 0\n",
    "    while i < 10:\n",
    "        yield env.execute(a.send(i))\n",
    "```\n",
    "</details>\n",
    "    \n",
    "<details>\n",
    "    <summary>[Click for the answer to b]</summary>\n",
    "\n",
    "    Answer:\n",
    "    \n",
    "```python\n",
    "@process\n",
    "def C_add(env, a, b, addition):\n",
    "    while True:\n",
    "        x = yield env.execute(a.receive())\n",
    "        x = x + addition\n",
    "        yield env.execute(b.send(x))\n",
    "```\n",
    "  \n",
    "</details>\n",
    "    \n",
    "<details>\n",
    "    <summary>[Click for the answer to c]</summary>\n",
    "\n",
    "    Answer:\n",
    "    \n",
    "```python\n",
    "@process\n",
    "def C_mul(env, a, b, multiplier):\n",
    "    while True:\n",
    "        x = yield env.execute(a.receive())\n",
    "        x = x * multiplier\n",
    "        yield env.execute(b.send(x))\n",
    "```\n",
    "</details>\n",
    "    \n",
    "<details>\n",
    "    <summary>[Click for the answer to d]</summary>\n",
    "\n",
    "    Answer:\n",
    "    \n",
    "```python\n",
    "@process\n",
    "def W(env, a):\n",
    "    while True:\n",
    "        x = yield env.execute(a.receive())\n",
    "        print(a)\n",
    "```\n",
    "</details>\n",
    "\n",
    "<details>\n",
    "    <summary>[Click for the answer to e]</summary>\n",
    "\n",
    "    Answer:\n",
    "\n",
    "    | Figure 5: The six children |\n",
    "    -\n",
    "    <img src=\"figures/8-5.png\" width=75%>\n",
    "    <a id='fig:8-5'></a>\n",
    "\n",
    "\n",
    "</details>\n",
    "\n",
    "<details>\n",
    "    <summary>[Click for the answer to f]</summary>\n",
    "\n",
    "    Answer:\n",
    "    \n",
    "```python\n",
    "def SixChildren():\n",
    "    env = Environment()\n",
    "    \n",
    "    a = Channel(env)\n",
    "    b = Channel(env)\n",
    "    c = Channel(env)\n",
    "    d = Channel(env)\n",
    "    e = Channel(env)\n",
    "    \n",
    "    reader = R(env, a)\n",
    "    C1 = C_add(env, a, b, 2)\n",
    "    C2 = C_mul(env, b, c, 3)\n",
    "    C3 = C_mul(env, c, d, 2)\n",
    "    C4 = C_add(env, d, e, 6)\n",
    "    writer = W(env, e)\n",
    "    \n",
    "    env.run()\n",
    "    \n",
    "SixChildren()\n",
    "```\n",
    "</details>\n",
    "    "
   ]
  },
  {
   "cell_type": "code",
   "execution_count": null,
   "id": "ce855343",
   "metadata": {},
   "outputs": [],
   "source": []
  }
 ],
 "metadata": {
  "kernelspec": {
   "display_name": "Python 3 (ipykernel)",
   "language": "python",
   "name": "python3"
  },
  "language_info": {
   "codemirror_mode": {
    "name": "ipython",
    "version": 3
   },
   "file_extension": ".py",
   "mimetype": "text/x-python",
   "name": "python",
   "nbconvert_exporter": "python",
   "pygments_lexer": "ipython3",
   "version": "3.8.10"
  }
 },
 "nbformat": 4,
 "nbformat_minor": 5
}